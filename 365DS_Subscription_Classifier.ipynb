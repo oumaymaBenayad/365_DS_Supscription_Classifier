{
 "cells": [
  {
   "cell_type": "markdown",
   "id": "977ba9c0",
   "metadata": {},
   "source": [
    "# 365 DataScience Subscription Classifier "
   ]
  },
  {
   "cell_type": "markdown",
   "id": "c1eaa031",
   "metadata": {},
   "source": [
    " <img src=\"https://365datascience.com/resources/365-Data-Science-Open-Graph.png\" />"
   ]
  },
  {
   "cell_type": "markdown",
   "id": "56f5aa44",
   "metadata": {},
   "source": [
    "### Before we Begin:\n",
    "If you liked my work, please hit the like boutton and show me your support, because we will be ranked based on the number of likes/reactions the challenge-related post receive on LinkedIn. Thank you!\n",
    "\n",
    "I would be pleased to receive feedback or suggestions to improve any of the below."
   ]
  },
  {
   "cell_type": "markdown",
   "id": "af655f67",
   "metadata": {},
   "source": [
    "### Introduction\n",
    "365 Data Science is an online learning platform specializing in data science courses. Students learn by watching video content, then evaluate their knowledge by taking quizzes, practice exams, course exams, and career track exams. The exams can be attempted more than once.\n",
    "\n",
    "In this challenge, we will work on a real case and handle a classification problem that deals with a heavily imbalanced dataset."
   ]
  },
  {
   "cell_type": "markdown",
   "id": "21b7ded1",
   "metadata": {},
   "source": [
    "### Our Goals\n",
    "- Develop a machine learning model to predict whether a Free Plan user would convert to a paid subscriber or not.\n",
    "  - Free plan user : someone who has never made an order\n",
    "  - Paid subscriber : someone who has made an order at least once\n",
    "- Handle the imbalanced dataset by using re-sambling methods.\n",
    "- Determine the Classifiers we are going to use and decide which one has a higher f1-score, precision/recall score.\n",
    "\n",
    "Let's start!"
   ]
  },
  {
   "cell_type": "markdown",
   "id": "f910f88f",
   "metadata": {},
   "source": [
    "### Database\n",
    "The dataset can be downloaded from database folder in the project repository : MySQL database of 11 tables or a collection of 11 .csv files. \n",
    "\n",
    "\n",
    "In the upcoming sections, we'll work with the following .csv files\n",
    "\n",
    "- 365_student_info : Stores information about the students\n",
    "- 365_student_purchases : Stores information about the students' subscription purchases\n",
    "- 365_student_learning : Stores information about the courses a student has watched, how much of each course they have watched, and the date watched\n",
    "- 365_course_info : Stores information about the courses on the platform\n",
    "- 365_course_ratings : Stores information about the ratings each course has received\n",
    "- 365_student_engagement : Stores information about the students' daily engagement with the platform\n",
    "- 365_student_hub_questions : Stores information about the questions asked by students in the Q&A hub"
   ]
  },
  {
   "cell_type": "markdown",
   "id": "8ac4a4a0",
   "metadata": {},
   "source": [
    "### Contents :\n",
    "\n",
    "- Importing required librairies\n",
    "- Understanding our data\n",
    "  - Basic insights\n",
    "  - Visualizations\n",
    "  - Creating new features: Extracting from existing\n",
    "- Exploratory Data Analysis\n",
    "  - Handling missing values\n",
    "  - Visualizing relationships between features\n",
    "  - Correlations\n",
    "- Principal Components Analysis\n",
    "  - Splitting the data into training and test sets\n",
    "  - Scaling the data\n",
    "  - PCA transformation\n",
    "- Working with imbalanced data: Re-sampling techniques\n",
    "- Modeling and evaluation\n",
    "  - Selecting classification algorithms\n",
    "  - Evaluating Classifiers and selecting performance metrics\n",
    "  - Applying cross-validation and hyperparameter tuning techniques\n",
    "- Closing thoughts"
   ]
  },
  {
   "cell_type": "markdown",
   "id": "71e50928",
   "metadata": {},
   "source": [
    "## Importing all required librairies"
   ]
  },
  {
   "cell_type": "code",
   "execution_count": 108,
   "id": "7925048d",
   "metadata": {},
   "outputs": [],
   "source": [
    "import pandas as pd\n",
    "import numpy as np\n",
    "import seaborn as sns \n",
    "from matplotlib import pyplot as plt\n",
    "%matplotlib inline\n",
    "from scipy import stats\n",
    "\n",
    "from imblearn.over_sampling import SMOTE\n",
    "from imblearn.pipeline import Pipeline, make_pipeline\n",
    "\n",
    "from sklearn.preprocessing import StandardScaler\n",
    "from sklearn.decomposition import PCA\n",
    "\n",
    "from sklearn.linear_model import LogisticRegression\n",
    "from sklearn.neighbors import KNeighborsClassifier\n",
    "from sklearn.tree import DecisionTreeClassifier\n",
    "from sklearn.naive_bayes import GaussianNB\n",
    "from sklearn.svm import SVC\n",
    "from sklearn.neural_network import MLPClassifier\n",
    "\n",
    "from sklearn.ensemble import RandomForestClassifier\n",
    "from sklearn.ensemble import GradientBoostingClassifier\n",
    "\n",
    "from sklearn.model_selection import train_test_split\n",
    "from sklearn.model_selection import GridSearchCV\n",
    "from sklearn.model_selection import cross_val_predict\n",
    "from sklearn.model_selection import cross_val_score\n",
    "from sklearn.model_selection import cross_validate\n",
    "\n",
    "from sklearn.metrics import roc_auc_score\n",
    "from sklearn.metrics import precision_score\n",
    "from sklearn.metrics import recall_score\n",
    "from sklearn.metrics import f1_score\n",
    "from sklearn.metrics import plot_confusion_matrix\n",
    "from sklearn.metrics import confusion_matrix\n",
    "from sklearn.metrics import ConfusionMatrixDisplay\n",
    "\n",
    "from xgboost import XGBClassifier"
   ]
  },
  {
   "cell_type": "markdown",
   "id": "340d518a",
   "metadata": {},
   "source": [
    "## Understanding our data"
   ]
  },
  {
   "cell_type": "markdown",
   "id": "b1e08335",
   "metadata": {},
   "source": [
    "Let's load the csv files and see what we have"
   ]
  },
  {
   "cell_type": "code",
   "execution_count": 109,
   "id": "6b4a6ea2",
   "metadata": {},
   "outputs": [],
   "source": [
    "student_learning=pd.read_csv(\"365_student_learning.csv\")"
   ]
  },
  {
   "cell_type": "code",
   "execution_count": 110,
   "id": "b5530365",
   "metadata": {
    "scrolled": true
   },
   "outputs": [
    {
     "data": {
      "text/html": [
       "<div>\n",
       "<style scoped>\n",
       "    .dataframe tbody tr th:only-of-type {\n",
       "        vertical-align: middle;\n",
       "    }\n",
       "\n",
       "    .dataframe tbody tr th {\n",
       "        vertical-align: top;\n",
       "    }\n",
       "\n",
       "    .dataframe thead th {\n",
       "        text-align: right;\n",
       "    }\n",
       "</style>\n",
       "<table border=\"1\" class=\"dataframe\">\n",
       "  <thead>\n",
       "    <tr style=\"text-align: right;\">\n",
       "      <th></th>\n",
       "      <th>student_id</th>\n",
       "      <th>course_id</th>\n",
       "      <th>minutes_watched</th>\n",
       "      <th>date_watched</th>\n",
       "    </tr>\n",
       "  </thead>\n",
       "  <tbody>\n",
       "    <tr>\n",
       "      <th>0</th>\n",
       "      <td>258798</td>\n",
       "      <td>23</td>\n",
       "      <td>0.3</td>\n",
       "      <td>2022-01-01</td>\n",
       "    </tr>\n",
       "    <tr>\n",
       "      <th>1</th>\n",
       "      <td>258800</td>\n",
       "      <td>2</td>\n",
       "      <td>12.9</td>\n",
       "      <td>2022-04-01</td>\n",
       "    </tr>\n",
       "    <tr>\n",
       "      <th>2</th>\n",
       "      <td>258800</td>\n",
       "      <td>7</td>\n",
       "      <td>46.8</td>\n",
       "      <td>2022-01-03</td>\n",
       "    </tr>\n",
       "    <tr>\n",
       "      <th>3</th>\n",
       "      <td>258800</td>\n",
       "      <td>7</td>\n",
       "      <td>4.3</td>\n",
       "      <td>2022-01-04</td>\n",
       "    </tr>\n",
       "    <tr>\n",
       "      <th>4</th>\n",
       "      <td>258800</td>\n",
       "      <td>7</td>\n",
       "      <td>31.7</td>\n",
       "      <td>2022-01-07</td>\n",
       "    </tr>\n",
       "  </tbody>\n",
       "</table>\n",
       "</div>"
      ],
      "text/plain": [
       "   student_id  course_id  minutes_watched date_watched\n",
       "0      258798         23              0.3   2022-01-01\n",
       "1      258800          2             12.9   2022-04-01\n",
       "2      258800          7             46.8   2022-01-03\n",
       "3      258800          7              4.3   2022-01-04\n",
       "4      258800          7             31.7   2022-01-07"
      ]
     },
     "execution_count": 110,
     "metadata": {},
     "output_type": "execute_result"
    }
   ],
   "source": [
    "student_learning.head()"
   ]
  },
  {
   "cell_type": "code",
   "execution_count": 111,
   "id": "80e49128",
   "metadata": {},
   "outputs": [
    {
     "data": {
      "text/plain": [
       "18167"
      ]
     },
     "execution_count": 111,
     "metadata": {},
     "output_type": "execute_result"
    }
   ],
   "source": [
    "len(student_learning.student_id.unique())"
   ]
  },
  {
   "cell_type": "code",
   "execution_count": 112,
   "id": "c959c2af",
   "metadata": {},
   "outputs": [],
   "source": [
    "student_info=pd.read_csv(\"365_student_info.csv\")"
   ]
  },
  {
   "cell_type": "code",
   "execution_count": 113,
   "id": "89a06048",
   "metadata": {},
   "outputs": [
    {
     "data": {
      "text/html": [
       "<div>\n",
       "<style scoped>\n",
       "    .dataframe tbody tr th:only-of-type {\n",
       "        vertical-align: middle;\n",
       "    }\n",
       "\n",
       "    .dataframe tbody tr th {\n",
       "        vertical-align: top;\n",
       "    }\n",
       "\n",
       "    .dataframe thead th {\n",
       "        text-align: right;\n",
       "    }\n",
       "</style>\n",
       "<table border=\"1\" class=\"dataframe\">\n",
       "  <thead>\n",
       "    <tr style=\"text-align: right;\">\n",
       "      <th></th>\n",
       "      <th>student_id</th>\n",
       "      <th>student_country</th>\n",
       "      <th>date_registered</th>\n",
       "    </tr>\n",
       "  </thead>\n",
       "  <tbody>\n",
       "    <tr>\n",
       "      <th>0</th>\n",
       "      <td>258798</td>\n",
       "      <td>IN</td>\n",
       "      <td>2022-01-01</td>\n",
       "    </tr>\n",
       "    <tr>\n",
       "      <th>1</th>\n",
       "      <td>258799</td>\n",
       "      <td>CO</td>\n",
       "      <td>2022-01-01</td>\n",
       "    </tr>\n",
       "    <tr>\n",
       "      <th>2</th>\n",
       "      <td>258800</td>\n",
       "      <td>CA</td>\n",
       "      <td>2022-01-01</td>\n",
       "    </tr>\n",
       "    <tr>\n",
       "      <th>3</th>\n",
       "      <td>258801</td>\n",
       "      <td>IN</td>\n",
       "      <td>2022-01-01</td>\n",
       "    </tr>\n",
       "    <tr>\n",
       "      <th>4</th>\n",
       "      <td>258802</td>\n",
       "      <td>US</td>\n",
       "      <td>2022-01-01</td>\n",
       "    </tr>\n",
       "  </tbody>\n",
       "</table>\n",
       "</div>"
      ],
      "text/plain": [
       "   student_id student_country date_registered\n",
       "0      258798              IN      2022-01-01\n",
       "1      258799              CO      2022-01-01\n",
       "2      258800              CA      2022-01-01\n",
       "3      258801              IN      2022-01-01\n",
       "4      258802              US      2022-01-01"
      ]
     },
     "execution_count": 113,
     "metadata": {},
     "output_type": "execute_result"
    }
   ],
   "source": [
    "student_info.head()"
   ]
  },
  {
   "cell_type": "code",
   "execution_count": 114,
   "id": "57886740",
   "metadata": {},
   "outputs": [
    {
     "data": {
      "text/plain": [
       "35230"
      ]
     },
     "execution_count": 114,
     "metadata": {},
     "output_type": "execute_result"
    }
   ],
   "source": [
    "len(student_info.student_id.unique())"
   ]
  },
  {
   "cell_type": "code",
   "execution_count": 115,
   "id": "8e63e5c5",
   "metadata": {},
   "outputs": [],
   "source": [
    "student_engagement=pd.read_csv(\"365_student_engagement.csv\")"
   ]
  },
  {
   "cell_type": "code",
   "execution_count": 116,
   "id": "0ff59444",
   "metadata": {},
   "outputs": [
    {
     "data": {
      "text/html": [
       "<div>\n",
       "<style scoped>\n",
       "    .dataframe tbody tr th:only-of-type {\n",
       "        vertical-align: middle;\n",
       "    }\n",
       "\n",
       "    .dataframe tbody tr th {\n",
       "        vertical-align: top;\n",
       "    }\n",
       "\n",
       "    .dataframe thead th {\n",
       "        text-align: right;\n",
       "    }\n",
       "</style>\n",
       "<table border=\"1\" class=\"dataframe\">\n",
       "  <thead>\n",
       "    <tr style=\"text-align: right;\">\n",
       "      <th></th>\n",
       "      <th>engagement_id</th>\n",
       "      <th>student_id</th>\n",
       "      <th>engagement_quizzes</th>\n",
       "      <th>engagement_exams</th>\n",
       "      <th>engagement_lessons</th>\n",
       "      <th>date_engaged</th>\n",
       "    </tr>\n",
       "  </thead>\n",
       "  <tbody>\n",
       "    <tr>\n",
       "      <th>0</th>\n",
       "      <td>1</td>\n",
       "      <td>274999</td>\n",
       "      <td>1</td>\n",
       "      <td>1</td>\n",
       "      <td>1</td>\n",
       "      <td>2022-05-27</td>\n",
       "    </tr>\n",
       "    <tr>\n",
       "      <th>1</th>\n",
       "      <td>3</td>\n",
       "      <td>274501</td>\n",
       "      <td>0</td>\n",
       "      <td>0</td>\n",
       "      <td>1</td>\n",
       "      <td>2022-05-27</td>\n",
       "    </tr>\n",
       "    <tr>\n",
       "      <th>2</th>\n",
       "      <td>4</td>\n",
       "      <td>272842</td>\n",
       "      <td>1</td>\n",
       "      <td>1</td>\n",
       "      <td>1</td>\n",
       "      <td>2022-05-27</td>\n",
       "    </tr>\n",
       "    <tr>\n",
       "      <th>3</th>\n",
       "      <td>8</td>\n",
       "      <td>275173</td>\n",
       "      <td>0</td>\n",
       "      <td>0</td>\n",
       "      <td>1</td>\n",
       "      <td>2022-05-27</td>\n",
       "    </tr>\n",
       "    <tr>\n",
       "      <th>4</th>\n",
       "      <td>11</td>\n",
       "      <td>274876</td>\n",
       "      <td>0</td>\n",
       "      <td>1</td>\n",
       "      <td>0</td>\n",
       "      <td>2022-05-27</td>\n",
       "    </tr>\n",
       "  </tbody>\n",
       "</table>\n",
       "</div>"
      ],
      "text/plain": [
       "   engagement_id  student_id  engagement_quizzes  engagement_exams  \\\n",
       "0              1      274999                   1                 1   \n",
       "1              3      274501                   0                 0   \n",
       "2              4      272842                   1                 1   \n",
       "3              8      275173                   0                 0   \n",
       "4             11      274876                   0                 1   \n",
       "\n",
       "   engagement_lessons date_engaged  \n",
       "0                   1   2022-05-27  \n",
       "1                   1   2022-05-27  \n",
       "2                   1   2022-05-27  \n",
       "3                   1   2022-05-27  \n",
       "4                   0   2022-05-27  "
      ]
     },
     "execution_count": 116,
     "metadata": {},
     "output_type": "execute_result"
    }
   ],
   "source": [
    "student_engagement.head()"
   ]
  },
  {
   "cell_type": "code",
   "execution_count": 117,
   "id": "7d86498f",
   "metadata": {},
   "outputs": [
    {
     "data": {
      "text/plain": [
       "18344"
      ]
     },
     "execution_count": 117,
     "metadata": {},
     "output_type": "execute_result"
    }
   ],
   "source": [
    "len(student_engagement.student_id.unique())"
   ]
  },
  {
   "cell_type": "code",
   "execution_count": 118,
   "id": "0aa8bb24",
   "metadata": {},
   "outputs": [
    {
     "data": {
      "text/plain": [
       "2655"
      ]
     },
     "execution_count": 118,
     "metadata": {},
     "output_type": "execute_result"
    }
   ],
   "source": [
    "df=student_engagement[(student_engagement.engagement_quizzes==1)&(student_engagement.engagement_lessons==1)&(student_engagement.engagement_exams==1)]\n",
    "len(df.student_id.unique())"
   ]
  },
  {
   "cell_type": "code",
   "execution_count": 119,
   "id": "a2130bb3",
   "metadata": {},
   "outputs": [],
   "source": [
    "student_purchases=pd.read_csv(\"365_student_purchases.csv\")"
   ]
  },
  {
   "cell_type": "code",
   "execution_count": 120,
   "id": "0ee727df",
   "metadata": {},
   "outputs": [
    {
     "data": {
      "text/html": [
       "<div>\n",
       "<style scoped>\n",
       "    .dataframe tbody tr th:only-of-type {\n",
       "        vertical-align: middle;\n",
       "    }\n",
       "\n",
       "    .dataframe tbody tr th {\n",
       "        vertical-align: top;\n",
       "    }\n",
       "\n",
       "    .dataframe thead th {\n",
       "        text-align: right;\n",
       "    }\n",
       "</style>\n",
       "<table border=\"1\" class=\"dataframe\">\n",
       "  <thead>\n",
       "    <tr style=\"text-align: right;\">\n",
       "      <th></th>\n",
       "      <th>purchase_id</th>\n",
       "      <th>student_id</th>\n",
       "      <th>purchase_type</th>\n",
       "      <th>date_purchased</th>\n",
       "    </tr>\n",
       "  </thead>\n",
       "  <tbody>\n",
       "    <tr>\n",
       "      <th>0</th>\n",
       "      <td>15781</td>\n",
       "      <td>258800</td>\n",
       "      <td>Annual</td>\n",
       "      <td>2022-01-01</td>\n",
       "    </tr>\n",
       "    <tr>\n",
       "      <th>1</th>\n",
       "      <td>15786</td>\n",
       "      <td>258803</td>\n",
       "      <td>Annual</td>\n",
       "      <td>2022-01-01</td>\n",
       "    </tr>\n",
       "    <tr>\n",
       "      <th>2</th>\n",
       "      <td>15808</td>\n",
       "      <td>258862</td>\n",
       "      <td>Annual</td>\n",
       "      <td>2022-01-01</td>\n",
       "    </tr>\n",
       "    <tr>\n",
       "      <th>3</th>\n",
       "      <td>15809</td>\n",
       "      <td>258865</td>\n",
       "      <td>Annual</td>\n",
       "      <td>2022-01-01</td>\n",
       "    </tr>\n",
       "    <tr>\n",
       "      <th>4</th>\n",
       "      <td>15811</td>\n",
       "      <td>258878</td>\n",
       "      <td>Annual</td>\n",
       "      <td>2022-01-01</td>\n",
       "    </tr>\n",
       "  </tbody>\n",
       "</table>\n",
       "</div>"
      ],
      "text/plain": [
       "   purchase_id  student_id purchase_type date_purchased\n",
       "0        15781      258800        Annual     2022-01-01\n",
       "1        15786      258803        Annual     2022-01-01\n",
       "2        15808      258862        Annual     2022-01-01\n",
       "3        15809      258865        Annual     2022-01-01\n",
       "4        15811      258878        Annual     2022-01-01"
      ]
     },
     "execution_count": 120,
     "metadata": {},
     "output_type": "execute_result"
    }
   ],
   "source": [
    "student_purchases.head()"
   ]
  },
  {
   "cell_type": "code",
   "execution_count": 121,
   "id": "3ac9661e",
   "metadata": {},
   "outputs": [
    {
     "data": {
      "text/plain": [
       "2135"
      ]
     },
     "execution_count": 121,
     "metadata": {},
     "output_type": "execute_result"
    }
   ],
   "source": [
    "len(student_purchases.student_id.unique())"
   ]
  },
  {
   "cell_type": "code",
   "execution_count": 122,
   "id": "9aa92d06",
   "metadata": {},
   "outputs": [],
   "source": [
    "course_ratings=pd.read_csv(\"365_course_ratings.csv\")"
   ]
  },
  {
   "cell_type": "code",
   "execution_count": 123,
   "id": "fff66667",
   "metadata": {},
   "outputs": [
    {
     "data": {
      "text/html": [
       "<div>\n",
       "<style scoped>\n",
       "    .dataframe tbody tr th:only-of-type {\n",
       "        vertical-align: middle;\n",
       "    }\n",
       "\n",
       "    .dataframe tbody tr th {\n",
       "        vertical-align: top;\n",
       "    }\n",
       "\n",
       "    .dataframe thead th {\n",
       "        text-align: right;\n",
       "    }\n",
       "</style>\n",
       "<table border=\"1\" class=\"dataframe\">\n",
       "  <thead>\n",
       "    <tr style=\"text-align: right;\">\n",
       "      <th></th>\n",
       "      <th>course_id</th>\n",
       "      <th>student_id</th>\n",
       "      <th>course_rating</th>\n",
       "      <th>date_rated</th>\n",
       "    </tr>\n",
       "  </thead>\n",
       "  <tbody>\n",
       "    <tr>\n",
       "      <th>0</th>\n",
       "      <td>14</td>\n",
       "      <td>258956</td>\n",
       "      <td>5</td>\n",
       "      <td>2022-07-06</td>\n",
       "    </tr>\n",
       "    <tr>\n",
       "      <th>1</th>\n",
       "      <td>7</td>\n",
       "      <td>259019</td>\n",
       "      <td>5</td>\n",
       "      <td>2022-08-30</td>\n",
       "    </tr>\n",
       "    <tr>\n",
       "      <th>2</th>\n",
       "      <td>23</td>\n",
       "      <td>259019</td>\n",
       "      <td>4</td>\n",
       "      <td>2022-08-30</td>\n",
       "    </tr>\n",
       "    <tr>\n",
       "      <th>3</th>\n",
       "      <td>14</td>\n",
       "      <td>259283</td>\n",
       "      <td>5</td>\n",
       "      <td>2022-07-08</td>\n",
       "    </tr>\n",
       "    <tr>\n",
       "      <th>4</th>\n",
       "      <td>30</td>\n",
       "      <td>259283</td>\n",
       "      <td>5</td>\n",
       "      <td>2022-07-02</td>\n",
       "    </tr>\n",
       "  </tbody>\n",
       "</table>\n",
       "</div>"
      ],
      "text/plain": [
       "   course_id  student_id  course_rating  date_rated\n",
       "0         14      258956              5  2022-07-06\n",
       "1          7      259019              5  2022-08-30\n",
       "2         23      259019              4  2022-08-30\n",
       "3         14      259283              5  2022-07-08\n",
       "4         30      259283              5  2022-07-02"
      ]
     },
     "execution_count": 123,
     "metadata": {},
     "output_type": "execute_result"
    }
   ],
   "source": [
    "course_ratings.head()"
   ]
  },
  {
   "cell_type": "code",
   "execution_count": 124,
   "id": "557c7471",
   "metadata": {},
   "outputs": [],
   "source": [
    "course_info=pd.read_csv(\"365_course_info.csv\")"
   ]
  },
  {
   "cell_type": "code",
   "execution_count": 125,
   "id": "42d6f916",
   "metadata": {},
   "outputs": [
    {
     "data": {
      "text/html": [
       "<div>\n",
       "<style scoped>\n",
       "    .dataframe tbody tr th:only-of-type {\n",
       "        vertical-align: middle;\n",
       "    }\n",
       "\n",
       "    .dataframe tbody tr th {\n",
       "        vertical-align: top;\n",
       "    }\n",
       "\n",
       "    .dataframe thead th {\n",
       "        text-align: right;\n",
       "    }\n",
       "</style>\n",
       "<table border=\"1\" class=\"dataframe\">\n",
       "  <thead>\n",
       "    <tr style=\"text-align: right;\">\n",
       "      <th></th>\n",
       "      <th>course_id</th>\n",
       "      <th>course_title</th>\n",
       "    </tr>\n",
       "  </thead>\n",
       "  <tbody>\n",
       "    <tr>\n",
       "      <th>0</th>\n",
       "      <td>2</td>\n",
       "      <td>Introduction to Tableau</td>\n",
       "    </tr>\n",
       "    <tr>\n",
       "      <th>1</th>\n",
       "      <td>3</td>\n",
       "      <td>The Complete Data Visualization Course with Py...</td>\n",
       "    </tr>\n",
       "    <tr>\n",
       "      <th>2</th>\n",
       "      <td>4</td>\n",
       "      <td>Introduction to R Programming</td>\n",
       "    </tr>\n",
       "    <tr>\n",
       "      <th>3</th>\n",
       "      <td>5</td>\n",
       "      <td>Data Preprocessing with NumPy</td>\n",
       "    </tr>\n",
       "    <tr>\n",
       "      <th>4</th>\n",
       "      <td>7</td>\n",
       "      <td>Introduction to Data and Data Science</td>\n",
       "    </tr>\n",
       "  </tbody>\n",
       "</table>\n",
       "</div>"
      ],
      "text/plain": [
       "   course_id                                       course_title\n",
       "0          2                            Introduction to Tableau\n",
       "1          3  The Complete Data Visualization Course with Py...\n",
       "2          4                      Introduction to R Programming\n",
       "3          5                      Data Preprocessing with NumPy\n",
       "4          7              Introduction to Data and Data Science"
      ]
     },
     "execution_count": 125,
     "metadata": {},
     "output_type": "execute_result"
    }
   ],
   "source": [
    "course_info.head()"
   ]
  },
  {
   "cell_type": "markdown",
   "id": "08ca6bd3",
   "metadata": {},
   "source": [
    "### Basic insights"
   ]
  },
  {
   "cell_type": "markdown",
   "id": "260e27bd",
   "metadata": {},
   "source": [
    "After a quick look at the datasets, we can come up with the following observations :\n",
    "1. Number of students who registered to 365 Data Science website is **35230**\n",
    "2. Number of students who started watching courses is **18167**\n",
    "3. Number of students who are engaged is **18344** divided as following :\n",
    " - 14002 with lessons\n",
    " - 151 with quizzes\n",
    " - 549 with exams\n",
    " - 2655 with all\n",
    "4. Number of students who purchased one course or more is **2135**"
   ]
  },
  {
   "cell_type": "markdown",
   "id": "7fa64fe9",
   "metadata": {},
   "source": [
    "Now, we need to merge the chosen datasets in order to come up with more informative insights"
   ]
  },
  {
   "cell_type": "code",
   "execution_count": 126,
   "id": "fe2cade5",
   "metadata": {},
   "outputs": [],
   "source": [
    "df = pd.merge(student_learning, student_info, how='left', on='student_id').merge(student_purchases, how='left', on='student_id').merge(course_ratings, how='left', on=['student_id', 'course_id']).merge(course_info, how='left', on='course_id')"
   ]
  },
  {
   "cell_type": "code",
   "execution_count": 127,
   "id": "1a0438bc",
   "metadata": {},
   "outputs": [
    {
     "data": {
      "text/html": [
       "<div>\n",
       "<style scoped>\n",
       "    .dataframe tbody tr th:only-of-type {\n",
       "        vertical-align: middle;\n",
       "    }\n",
       "\n",
       "    .dataframe tbody tr th {\n",
       "        vertical-align: top;\n",
       "    }\n",
       "\n",
       "    .dataframe thead th {\n",
       "        text-align: right;\n",
       "    }\n",
       "</style>\n",
       "<table border=\"1\" class=\"dataframe\">\n",
       "  <thead>\n",
       "    <tr style=\"text-align: right;\">\n",
       "      <th></th>\n",
       "      <th>student_id</th>\n",
       "      <th>course_id</th>\n",
       "      <th>minutes_watched</th>\n",
       "      <th>date_watched</th>\n",
       "      <th>student_country</th>\n",
       "      <th>date_registered</th>\n",
       "      <th>purchase_id</th>\n",
       "      <th>purchase_type</th>\n",
       "      <th>date_purchased</th>\n",
       "      <th>course_rating</th>\n",
       "      <th>date_rated</th>\n",
       "      <th>course_title</th>\n",
       "    </tr>\n",
       "  </thead>\n",
       "  <tbody>\n",
       "    <tr>\n",
       "      <th>0</th>\n",
       "      <td>258798</td>\n",
       "      <td>23</td>\n",
       "      <td>0.3</td>\n",
       "      <td>2022-01-01</td>\n",
       "      <td>IN</td>\n",
       "      <td>2022-01-01</td>\n",
       "      <td>NaN</td>\n",
       "      <td>NaN</td>\n",
       "      <td>NaN</td>\n",
       "      <td>NaN</td>\n",
       "      <td>NaN</td>\n",
       "      <td>Introduction to Excel</td>\n",
       "    </tr>\n",
       "    <tr>\n",
       "      <th>1</th>\n",
       "      <td>258800</td>\n",
       "      <td>2</td>\n",
       "      <td>12.9</td>\n",
       "      <td>2022-04-01</td>\n",
       "      <td>CA</td>\n",
       "      <td>2022-01-01</td>\n",
       "      <td>15781.0</td>\n",
       "      <td>Annual</td>\n",
       "      <td>2022-01-01</td>\n",
       "      <td>NaN</td>\n",
       "      <td>NaN</td>\n",
       "      <td>Introduction to Tableau</td>\n",
       "    </tr>\n",
       "    <tr>\n",
       "      <th>2</th>\n",
       "      <td>258800</td>\n",
       "      <td>7</td>\n",
       "      <td>46.8</td>\n",
       "      <td>2022-01-03</td>\n",
       "      <td>CA</td>\n",
       "      <td>2022-01-01</td>\n",
       "      <td>15781.0</td>\n",
       "      <td>Annual</td>\n",
       "      <td>2022-01-01</td>\n",
       "      <td>NaN</td>\n",
       "      <td>NaN</td>\n",
       "      <td>Introduction to Data and Data Science</td>\n",
       "    </tr>\n",
       "    <tr>\n",
       "      <th>3</th>\n",
       "      <td>258800</td>\n",
       "      <td>7</td>\n",
       "      <td>4.3</td>\n",
       "      <td>2022-01-04</td>\n",
       "      <td>CA</td>\n",
       "      <td>2022-01-01</td>\n",
       "      <td>15781.0</td>\n",
       "      <td>Annual</td>\n",
       "      <td>2022-01-01</td>\n",
       "      <td>NaN</td>\n",
       "      <td>NaN</td>\n",
       "      <td>Introduction to Data and Data Science</td>\n",
       "    </tr>\n",
       "    <tr>\n",
       "      <th>4</th>\n",
       "      <td>258800</td>\n",
       "      <td>7</td>\n",
       "      <td>31.7</td>\n",
       "      <td>2022-01-07</td>\n",
       "      <td>CA</td>\n",
       "      <td>2022-01-01</td>\n",
       "      <td>15781.0</td>\n",
       "      <td>Annual</td>\n",
       "      <td>2022-01-01</td>\n",
       "      <td>NaN</td>\n",
       "      <td>NaN</td>\n",
       "      <td>Introduction to Data and Data Science</td>\n",
       "    </tr>\n",
       "  </tbody>\n",
       "</table>\n",
       "</div>"
      ],
      "text/plain": [
       "   student_id  course_id  minutes_watched date_watched student_country  \\\n",
       "0      258798         23              0.3   2022-01-01              IN   \n",
       "1      258800          2             12.9   2022-04-01              CA   \n",
       "2      258800          7             46.8   2022-01-03              CA   \n",
       "3      258800          7              4.3   2022-01-04              CA   \n",
       "4      258800          7             31.7   2022-01-07              CA   \n",
       "\n",
       "  date_registered  purchase_id purchase_type date_purchased  course_rating  \\\n",
       "0      2022-01-01          NaN           NaN            NaN            NaN   \n",
       "1      2022-01-01      15781.0        Annual     2022-01-01            NaN   \n",
       "2      2022-01-01      15781.0        Annual     2022-01-01            NaN   \n",
       "3      2022-01-01      15781.0        Annual     2022-01-01            NaN   \n",
       "4      2022-01-01      15781.0        Annual     2022-01-01            NaN   \n",
       "\n",
       "  date_rated                           course_title  \n",
       "0        NaN                  Introduction to Excel  \n",
       "1        NaN                Introduction to Tableau  \n",
       "2        NaN  Introduction to Data and Data Science  \n",
       "3        NaN  Introduction to Data and Data Science  \n",
       "4        NaN  Introduction to Data and Data Science  "
      ]
     },
     "execution_count": 127,
     "metadata": {},
     "output_type": "execute_result"
    }
   ],
   "source": [
    "df.head()"
   ]
  },
  {
   "cell_type": "code",
   "execution_count": 128,
   "id": "5383459f",
   "metadata": {},
   "outputs": [
    {
     "data": {
      "text/plain": [
       "(87633, 12)"
      ]
     },
     "execution_count": 128,
     "metadata": {},
     "output_type": "execute_result"
    }
   ],
   "source": [
    "df.shape"
   ]
  },
  {
   "cell_type": "code",
   "execution_count": 129,
   "id": "7713dc5b",
   "metadata": {},
   "outputs": [
    {
     "data": {
      "text/plain": [
       "student_id             0\n",
       "course_id              0\n",
       "minutes_watched        0\n",
       "date_watched           0\n",
       "student_country       44\n",
       "date_registered        0\n",
       "purchase_id        27204\n",
       "purchase_type      27204\n",
       "date_purchased     27204\n",
       "course_rating      71054\n",
       "date_rated         71054\n",
       "course_title          80\n",
       "dtype: int64"
      ]
     },
     "execution_count": 129,
     "metadata": {},
     "output_type": "execute_result"
    }
   ],
   "source": [
    "df.isnull().sum()"
   ]
  },
  {
   "cell_type": "markdown",
   "id": "ae86c534",
   "metadata": {},
   "source": [
    "### Visualizations"
   ]
  },
  {
   "cell_type": "markdown",
   "id": "75c38e58",
   "metadata": {},
   "source": [
    "After the merging, we got a big dataset with 12 columns and 87633 records. However, there is a lot of missing values that we will handle later on.\n",
    "\n",
    "Now, let's plot some visualizations to get more informations about our data :\n",
    "   - Donut chart to visualize the countries with the higher registered students rate\n",
    "   - Histogram to have a clue on student's satisfaction and the course's quality\n",
    "   - Countplot to visualize what purchase type students prefer the most"
   ]
  },
  {
   "cell_type": "code",
   "execution_count": 130,
   "id": "38d6755a",
   "metadata": {},
   "outputs": [],
   "source": [
    "country_values=df['student_country'].value_counts().values"
   ]
  },
  {
   "cell_type": "code",
   "execution_count": 131,
   "id": "fdf59b29",
   "metadata": {},
   "outputs": [],
   "source": [
    "country_names=df['student_country'].value_counts().index"
   ]
  },
  {
   "cell_type": "code",
   "execution_count": 132,
   "id": "939de9ec",
   "metadata": {},
   "outputs": [
    {
     "data": {
      "image/png": "[encoded data removed]",
      "text/plain": [
       "<Figure size 648x504 with 1 Axes>"
      ]
     },
     "metadata": {},
     "output_type": "display_data"
    }
   ],
   "source": [
    "# Donut Chart \n",
    "fig, ax = plt.subplots(figsize =(9, 7))\n",
    "myexplode = list(0.02*np.ones(12))\n",
    "colors=['#CC1111','#70B500','#FF9F1A','#EB5A46','#F2D600','#C377E0','#01BFFF','#A7FC01','#FFEA5E','#D9A279','#E9D69B','#A6A1ED']\n",
    "wp = { 'linewidth' : 1, 'edgecolor' : \"white\" }\n",
    "wedges, texts, autotexts = ax.pie(country_values[:12],labels=country_names[:12],autopct='%1.2f%%',explode = myexplode,shadow=False,wedgeprops = wp,textprops = dict(color =\"black\"), pctdistance=0.85, colors=colors)\n",
    "ax.legend(title =\"Countries\",\n",
    "          loc =\"best\",\n",
    "          bbox_to_anchor =(1, 0, 0, 1),\n",
    "          fontsize=12,\n",
    "          title_fontsize=14)\n",
    "plt.setp(autotexts, size = 11, weight =\"bold\")\n",
    "plt.setp(texts, size = 11, weight =\"bold\")\n",
    "ax.set_title(\"Countries Distribution for students registered in the plateform\", \n",
    "             fontdict={'fontsize':18, 'fontweight':'bold','color': 'grey'}, loc='center')\n",
    "centre_circle = plt.Circle((0,0),0.70,fc='white')\n",
    "fig = plt.gcf()\n",
    "fig.gca().add_artist(centre_circle)\n",
    "plt.savefig('Countries Distribution')"
   ]
  },
  {
   "cell_type": "markdown",
   "id": "592128ee",
   "metadata": {},
   "source": [
    "We can clearly see that one-fourth (38.09%) of students are from United States with next time being from India then United Kingdom and so forth"
   ]
  },
  {
   "cell_type": "code",
   "execution_count": 133,
   "id": "3cb1558e",
   "metadata": {},
   "outputs": [
    {
     "data": {
      "image/png": "[encoded data removed]",
      "text/plain": [
       "<Figure size 576x432 with 1 Axes>"
      ]
     },
     "metadata": {},
     "output_type": "display_data"
    }
   ],
   "source": [
    "# Histogram\n",
    "sns.set_style('ticks')\n",
    "plt.figure(figsize=(8,6))\n",
    "sns.histplot(data=df, x='course_rating', discrete=True, color='orange')\n",
    "plt.title(\"Histogram of Course's Rating\", fontdict={'fontsize':18,'fontweight':'bold','color': 'grey'}, loc='center')\n",
    "plt.savefig(\"Histogram of Course's Rating\")"
   ]
  },
  {
   "cell_type": "markdown",
   "id": "21c53829",
   "metadata": {},
   "source": [
    "We observe that the majority of courses have a very high rating (5 stars) which means that many courses exceed student's expectations\n",
    "- 4 stars : course meet student's expectations\n",
    "- 5 stars : course exceed student's expectations"
   ]
  },
  {
   "cell_type": "code",
   "execution_count": 134,
   "id": "c831238e",
   "metadata": {},
   "outputs": [
    {
     "data": {
      "image/png": "[encoded data removed]",
      "text/plain": [
       "<Figure size 504x360 with 1 Axes>"
      ]
     },
     "metadata": {},
     "output_type": "display_data"
    }
   ],
   "source": [
    "# Countplot\n",
    "sns.set_style('ticks')\n",
    "plt.figure(figsize=(7,5))\n",
    "sns.countplot(data=df, x='purchase_type', palette='autumn', saturation=1)\n",
    "plt.title(\"Frequency of Purchase Type\", fontdict={'fontsize':18,'fontweight':'bold','color': 'grey'}, loc='center')\n",
    "plt.show()"
   ]
  },
  {
   "cell_type": "markdown",
   "id": "032371b1",
   "metadata": {},
   "source": [
    "We notice that the majority of students opt for both monthly and annual purchase "
   ]
  },
  {
   "cell_type": "markdown",
   "id": "93418d26",
   "metadata": {},
   "source": [
    "### Creating new features: Extracting from existing¶"
   ]
  },
  {
   "cell_type": "markdown",
   "id": "2c1185fa",
   "metadata": {},
   "source": [
    "To go further, we need to consider the features that could be used as a defining difference between users who are likely to subscribe and those who are not. Therfore, we have to extract new features from the existing ones. \n",
    "\n",
    "This task can be done easily using SQL programming language but we'll go for the hard way and we'll use groupby function to group by the student id and create some relevant features :\n",
    "\n",
    "1. Independant variables :\n",
    "  - ***total_minutes_watched*** --> Minutes watched on the platform per student (numeric)\n",
    "  - ***total_courses_enrolled*** --> Number of enrolled courses per student (numeric)\n",
    "  - ***engagement_days*** --> Number of days in which a student was engaged (numeric)\n",
    "  - ***engaged_with_courses*** --> Engagement with courses (binary: “1”, means “engaged”, “0” means “not engaged”)\n",
    "  - ***engaged_with_quizzes*** --> Engagement with quizzes (binary: “1”, means “engaged”, “0” means “not engaged”)\n",
    "  - ***engaged_with_exams*** --> Engagement with exams (binary: “1”, means “engaged”, “0” means “not engaged”)\n",
    "  - ***engaged_with_Q&A*** --> Engagement in the Q&A hub (binary: “1”, means “engaged”, “0” means “not engaged”)\n",
    "\n",
    "\n",
    "2. Dependant variable (desired target) :\n",
    "  - ***subscribed*** --> has the student subscribed or not? (binary: “1”, means “Yes”, “0” means “No”)\n",
    "\n"
   ]
  },
  {
   "cell_type": "markdown",
   "id": "59af1b46",
   "metadata": {},
   "source": [
    "Let's start with creating total minutes watched feature. To do so, we'll group students by student id and then sum up all minutes watched on the platform for each student by using the sum aggregate"
   ]
  },
  {
   "cell_type": "code",
   "execution_count": 135,
   "id": "1c4ef789",
   "metadata": {},
   "outputs": [
    {
     "data": {
      "text/html": [
       "<div>\n",
       "<style scoped>\n",
       "    .dataframe tbody tr th:only-of-type {\n",
       "        vertical-align: middle;\n",
       "    }\n",
       "\n",
       "    .dataframe tbody tr th {\n",
       "        vertical-align: top;\n",
       "    }\n",
       "\n",
       "    .dataframe thead th {\n",
       "        text-align: right;\n",
       "    }\n",
       "</style>\n",
       "<table border=\"1\" class=\"dataframe\">\n",
       "  <thead>\n",
       "    <tr style=\"text-align: right;\">\n",
       "      <th></th>\n",
       "      <th>student_id</th>\n",
       "      <th>total_minutes_watched</th>\n",
       "    </tr>\n",
       "  </thead>\n",
       "  <tbody>\n",
       "    <tr>\n",
       "      <th>0</th>\n",
       "      <td>258798</td>\n",
       "      <td>0.3</td>\n",
       "    </tr>\n",
       "    <tr>\n",
       "      <th>1</th>\n",
       "      <td>258800</td>\n",
       "      <td>531.2</td>\n",
       "    </tr>\n",
       "    <tr>\n",
       "      <th>2</th>\n",
       "      <td>258803</td>\n",
       "      <td>620.0</td>\n",
       "    </tr>\n",
       "    <tr>\n",
       "      <th>3</th>\n",
       "      <td>258804</td>\n",
       "      <td>14.2</td>\n",
       "    </tr>\n",
       "    <tr>\n",
       "      <th>4</th>\n",
       "      <td>258807</td>\n",
       "      <td>1.8</td>\n",
       "    </tr>\n",
       "    <tr>\n",
       "      <th>...</th>\n",
       "      <td>...</td>\n",
       "      <td>...</td>\n",
       "    </tr>\n",
       "    <tr>\n",
       "      <th>18162</th>\n",
       "      <td>295509</td>\n",
       "      <td>0.8</td>\n",
       "    </tr>\n",
       "    <tr>\n",
       "      <th>18163</th>\n",
       "      <td>295510</td>\n",
       "      <td>0.1</td>\n",
       "    </tr>\n",
       "    <tr>\n",
       "      <th>18164</th>\n",
       "      <td>295511</td>\n",
       "      <td>7.8</td>\n",
       "    </tr>\n",
       "    <tr>\n",
       "      <th>18165</th>\n",
       "      <td>295512</td>\n",
       "      <td>10.4</td>\n",
       "    </tr>\n",
       "    <tr>\n",
       "      <th>18166</th>\n",
       "      <td>295513</td>\n",
       "      <td>0.1</td>\n",
       "    </tr>\n",
       "  </tbody>\n",
       "</table>\n",
       "<p>18167 rows × 2 columns</p>\n",
       "</div>"
      ],
      "text/plain": [
       "       student_id  total_minutes_watched\n",
       "0          258798                    0.3\n",
       "1          258800                  531.2\n",
       "2          258803                  620.0\n",
       "3          258804                   14.2\n",
       "4          258807                    1.8\n",
       "...           ...                    ...\n",
       "18162      295509                    0.8\n",
       "18163      295510                    0.1\n",
       "18164      295511                    7.8\n",
       "18165      295512                   10.4\n",
       "18166      295513                    0.1\n",
       "\n",
       "[18167 rows x 2 columns]"
      ]
     },
     "execution_count": 135,
     "metadata": {},
     "output_type": "execute_result"
    }
   ],
   "source": [
    "# Total minutes watched per student\n",
    "minutes_watched = df.groupby('student_id')['minutes_watched'].sum('minutes_watched').reset_index().rename({'minutes_watched':'total_minutes_watched'},axis=1)\n",
    "minutes_watched"
   ]
  },
  {
   "cell_type": "markdown",
   "id": "c0721d29",
   "metadata": {},
   "source": [
    "Next, we'll create number of courses enrolled feature. We start by grouping students as we have done above but this time we'll use nunique aggregate. It counts unique courses for each student"
   ]
  },
  {
   "cell_type": "code",
   "execution_count": 136,
   "id": "8108152d",
   "metadata": {},
   "outputs": [
    {
     "data": {
      "text/html": [
       "<div>\n",
       "<style scoped>\n",
       "    .dataframe tbody tr th:only-of-type {\n",
       "        vertical-align: middle;\n",
       "    }\n",
       "\n",
       "    .dataframe tbody tr th {\n",
       "        vertical-align: top;\n",
       "    }\n",
       "\n",
       "    .dataframe thead th {\n",
       "        text-align: right;\n",
       "    }\n",
       "</style>\n",
       "<table border=\"1\" class=\"dataframe\">\n",
       "  <thead>\n",
       "    <tr style=\"text-align: right;\">\n",
       "      <th></th>\n",
       "      <th>student_id</th>\n",
       "      <th>total_courses_enrolled</th>\n",
       "    </tr>\n",
       "  </thead>\n",
       "  <tbody>\n",
       "    <tr>\n",
       "      <th>0</th>\n",
       "      <td>258798</td>\n",
       "      <td>1</td>\n",
       "    </tr>\n",
       "    <tr>\n",
       "      <th>1</th>\n",
       "      <td>258800</td>\n",
       "      <td>9</td>\n",
       "    </tr>\n",
       "    <tr>\n",
       "      <th>2</th>\n",
       "      <td>258803</td>\n",
       "      <td>3</td>\n",
       "    </tr>\n",
       "    <tr>\n",
       "      <th>3</th>\n",
       "      <td>258804</td>\n",
       "      <td>1</td>\n",
       "    </tr>\n",
       "    <tr>\n",
       "      <th>4</th>\n",
       "      <td>258807</td>\n",
       "      <td>1</td>\n",
       "    </tr>\n",
       "    <tr>\n",
       "      <th>...</th>\n",
       "      <td>...</td>\n",
       "      <td>...</td>\n",
       "    </tr>\n",
       "    <tr>\n",
       "      <th>18162</th>\n",
       "      <td>295509</td>\n",
       "      <td>1</td>\n",
       "    </tr>\n",
       "    <tr>\n",
       "      <th>18163</th>\n",
       "      <td>295510</td>\n",
       "      <td>1</td>\n",
       "    </tr>\n",
       "    <tr>\n",
       "      <th>18164</th>\n",
       "      <td>295511</td>\n",
       "      <td>1</td>\n",
       "    </tr>\n",
       "    <tr>\n",
       "      <th>18165</th>\n",
       "      <td>295512</td>\n",
       "      <td>1</td>\n",
       "    </tr>\n",
       "    <tr>\n",
       "      <th>18166</th>\n",
       "      <td>295513</td>\n",
       "      <td>1</td>\n",
       "    </tr>\n",
       "  </tbody>\n",
       "</table>\n",
       "<p>18167 rows × 2 columns</p>\n",
       "</div>"
      ],
      "text/plain": [
       "       student_id  total_courses_enrolled\n",
       "0          258798                       1\n",
       "1          258800                       9\n",
       "2          258803                       3\n",
       "3          258804                       1\n",
       "4          258807                       1\n",
       "...           ...                     ...\n",
       "18162      295509                       1\n",
       "18163      295510                       1\n",
       "18164      295511                       1\n",
       "18165      295512                       1\n",
       "18166      295513                       1\n",
       "\n",
       "[18167 rows x 2 columns]"
      ]
     },
     "execution_count": 136,
     "metadata": {},
     "output_type": "execute_result"
    }
   ],
   "source": [
    "# Number of courses enrolled per student\n",
    "courses_enrolled = df.groupby(by='student_id', as_index=False).agg({'course_title': pd.Series.nunique}).rename({'course_title':'total_courses_enrolled'},axis=1)\n",
    "courses_enrolled"
   ]
  },
  {
   "cell_type": "markdown",
   "id": "8b7f16a8",
   "metadata": {},
   "source": [
    "Now, we'll create the third feature : number of engagement days. This time, we can proceed similarly to the previous feature by using nunique that counts unique engaged dates for each student"
   ]
  },
  {
   "cell_type": "code",
   "execution_count": 137,
   "id": "d5bf3bc2",
   "metadata": {},
   "outputs": [],
   "source": [
    "df2=pd.merge(df,student_engagement,how='left',on='student_id')\n",
    "#df2.head()"
   ]
  },
  {
   "cell_type": "code",
   "execution_count": 138,
   "id": "71265941",
   "metadata": {},
   "outputs": [
    {
     "data": {
      "text/html": [
       "<div>\n",
       "<style scoped>\n",
       "    .dataframe tbody tr th:only-of-type {\n",
       "        vertical-align: middle;\n",
       "    }\n",
       "\n",
       "    .dataframe tbody tr th {\n",
       "        vertical-align: top;\n",
       "    }\n",
       "\n",
       "    .dataframe thead th {\n",
       "        text-align: right;\n",
       "    }\n",
       "</style>\n",
       "<table border=\"1\" class=\"dataframe\">\n",
       "  <thead>\n",
       "    <tr style=\"text-align: right;\">\n",
       "      <th></th>\n",
       "      <th>student_id</th>\n",
       "      <th>engagement_days</th>\n",
       "    </tr>\n",
       "  </thead>\n",
       "  <tbody>\n",
       "    <tr>\n",
       "      <th>0</th>\n",
       "      <td>258798</td>\n",
       "      <td>1</td>\n",
       "    </tr>\n",
       "    <tr>\n",
       "      <th>1</th>\n",
       "      <td>258800</td>\n",
       "      <td>29</td>\n",
       "    </tr>\n",
       "    <tr>\n",
       "      <th>2</th>\n",
       "      <td>258803</td>\n",
       "      <td>19</td>\n",
       "    </tr>\n",
       "    <tr>\n",
       "      <th>3</th>\n",
       "      <td>258804</td>\n",
       "      <td>1</td>\n",
       "    </tr>\n",
       "    <tr>\n",
       "      <th>4</th>\n",
       "      <td>258807</td>\n",
       "      <td>1</td>\n",
       "    </tr>\n",
       "    <tr>\n",
       "      <th>...</th>\n",
       "      <td>...</td>\n",
       "      <td>...</td>\n",
       "    </tr>\n",
       "    <tr>\n",
       "      <th>18162</th>\n",
       "      <td>295509</td>\n",
       "      <td>1</td>\n",
       "    </tr>\n",
       "    <tr>\n",
       "      <th>18163</th>\n",
       "      <td>295510</td>\n",
       "      <td>1</td>\n",
       "    </tr>\n",
       "    <tr>\n",
       "      <th>18164</th>\n",
       "      <td>295511</td>\n",
       "      <td>1</td>\n",
       "    </tr>\n",
       "    <tr>\n",
       "      <th>18165</th>\n",
       "      <td>295512</td>\n",
       "      <td>1</td>\n",
       "    </tr>\n",
       "    <tr>\n",
       "      <th>18166</th>\n",
       "      <td>295513</td>\n",
       "      <td>1</td>\n",
       "    </tr>\n",
       "  </tbody>\n",
       "</table>\n",
       "<p>18167 rows × 2 columns</p>\n",
       "</div>"
      ],
      "text/plain": [
       "       student_id  engagement_days\n",
       "0          258798                1\n",
       "1          258800               29\n",
       "2          258803               19\n",
       "3          258804                1\n",
       "4          258807                1\n",
       "...           ...              ...\n",
       "18162      295509                1\n",
       "18163      295510                1\n",
       "18164      295511                1\n",
       "18165      295512                1\n",
       "18166      295513                1\n",
       "\n",
       "[18167 rows x 2 columns]"
      ]
     },
     "execution_count": 138,
     "metadata": {},
     "output_type": "execute_result"
    }
   ],
   "source": [
    "# Number of engagement days per student\n",
    "engagement_days = df2.groupby(by='student_id', as_index=False).agg({'date_engaged': pd.Series.nunique}).rename({'date_engaged':'engagement_days'},axis=1)\n",
    "engagement_days"
   ]
  },
  {
   "cell_type": "markdown",
   "id": "4678b809",
   "metadata": {},
   "source": [
    "The fourth feature as we mentionned before is the engagement with lessons, In order to create this feature, we start as usual by grouping the students by their id but this time we'll use a different aggregate function. It's the max function that computes the maximum of group values. \n",
    "\n",
    "***Why max ?***\n",
    "\n",
    "\"engagement_lessons\" is a binary variable (0/1) : “1”, means “engaged”, “0” means “not engaged”. To conclude that a student is engaged with lessons we only need to be sure that he was engaged at least with one course.\n",
    "\n",
    "- max(1, 0, 0, 1) = 1\n",
    "- max(0, 0, 0, 0) = 0"
   ]
  },
  {
   "cell_type": "code",
   "execution_count": 139,
   "id": "edaeae13",
   "metadata": {},
   "outputs": [
    {
     "data": {
      "text/html": [
       "<div>\n",
       "<style scoped>\n",
       "    .dataframe tbody tr th:only-of-type {\n",
       "        vertical-align: middle;\n",
       "    }\n",
       "\n",
       "    .dataframe tbody tr th {\n",
       "        vertical-align: top;\n",
       "    }\n",
       "\n",
       "    .dataframe thead th {\n",
       "        text-align: right;\n",
       "    }\n",
       "</style>\n",
       "<table border=\"1\" class=\"dataframe\">\n",
       "  <thead>\n",
       "    <tr style=\"text-align: right;\">\n",
       "      <th></th>\n",
       "      <th>student_id</th>\n",
       "      <th>engaged_with_lessons</th>\n",
       "    </tr>\n",
       "  </thead>\n",
       "  <tbody>\n",
       "    <tr>\n",
       "      <th>0</th>\n",
       "      <td>258798</td>\n",
       "      <td>1.0</td>\n",
       "    </tr>\n",
       "    <tr>\n",
       "      <th>1</th>\n",
       "      <td>258800</td>\n",
       "      <td>1.0</td>\n",
       "    </tr>\n",
       "    <tr>\n",
       "      <th>2</th>\n",
       "      <td>258803</td>\n",
       "      <td>1.0</td>\n",
       "    </tr>\n",
       "    <tr>\n",
       "      <th>3</th>\n",
       "      <td>258804</td>\n",
       "      <td>1.0</td>\n",
       "    </tr>\n",
       "    <tr>\n",
       "      <th>4</th>\n",
       "      <td>258807</td>\n",
       "      <td>1.0</td>\n",
       "    </tr>\n",
       "    <tr>\n",
       "      <th>...</th>\n",
       "      <td>...</td>\n",
       "      <td>...</td>\n",
       "    </tr>\n",
       "    <tr>\n",
       "      <th>18162</th>\n",
       "      <td>295509</td>\n",
       "      <td>1.0</td>\n",
       "    </tr>\n",
       "    <tr>\n",
       "      <th>18163</th>\n",
       "      <td>295510</td>\n",
       "      <td>1.0</td>\n",
       "    </tr>\n",
       "    <tr>\n",
       "      <th>18164</th>\n",
       "      <td>295511</td>\n",
       "      <td>1.0</td>\n",
       "    </tr>\n",
       "    <tr>\n",
       "      <th>18165</th>\n",
       "      <td>295512</td>\n",
       "      <td>1.0</td>\n",
       "    </tr>\n",
       "    <tr>\n",
       "      <th>18166</th>\n",
       "      <td>295513</td>\n",
       "      <td>1.0</td>\n",
       "    </tr>\n",
       "  </tbody>\n",
       "</table>\n",
       "<p>18167 rows × 2 columns</p>\n",
       "</div>"
      ],
      "text/plain": [
       "       student_id  engaged_with_lessons\n",
       "0          258798                   1.0\n",
       "1          258800                   1.0\n",
       "2          258803                   1.0\n",
       "3          258804                   1.0\n",
       "4          258807                   1.0\n",
       "...           ...                   ...\n",
       "18162      295509                   1.0\n",
       "18163      295510                   1.0\n",
       "18164      295511                   1.0\n",
       "18165      295512                   1.0\n",
       "18166      295513                   1.0\n",
       "\n",
       "[18167 rows x 2 columns]"
      ]
     },
     "execution_count": 139,
     "metadata": {},
     "output_type": "execute_result"
    }
   ],
   "source": [
    "# Engagement with lessons\n",
    "engagement_lesson=df2.groupby(by=['student_id'], as_index=False).agg({'engagement_lessons': pd.Series.max}).rename({'engagement_lessons':'engaged_with_lessons'},axis=1)\n",
    "engagement_lesson"
   ]
  },
  {
   "cell_type": "code",
   "execution_count": 140,
   "id": "1a144d73",
   "metadata": {},
   "outputs": [
    {
     "data": {
      "text/html": [
       "<div>\n",
       "<style scoped>\n",
       "    .dataframe tbody tr th:only-of-type {\n",
       "        vertical-align: middle;\n",
       "    }\n",
       "\n",
       "    .dataframe tbody tr th {\n",
       "        vertical-align: top;\n",
       "    }\n",
       "\n",
       "    .dataframe thead th {\n",
       "        text-align: right;\n",
       "    }\n",
       "</style>\n",
       "<table border=\"1\" class=\"dataframe\">\n",
       "  <thead>\n",
       "    <tr style=\"text-align: right;\">\n",
       "      <th></th>\n",
       "      <th>student_id</th>\n",
       "      <th>engaged_with_lessons</th>\n",
       "    </tr>\n",
       "  </thead>\n",
       "  <tbody>\n",
       "    <tr>\n",
       "      <th>7457</th>\n",
       "      <td>273882</td>\n",
       "      <td>0.0</td>\n",
       "    </tr>\n",
       "  </tbody>\n",
       "</table>\n",
       "</div>"
      ],
      "text/plain": [
       "      student_id  engaged_with_lessons\n",
       "7457      273882                   0.0"
      ]
     },
     "execution_count": 140,
     "metadata": {},
     "output_type": "execute_result"
    }
   ],
   "source": [
    "engagement_lesson[engagement_lesson['engaged_with_lessons']==0]"
   ]
  },
  {
   "cell_type": "code",
   "execution_count": 141,
   "id": "23e63bbd",
   "metadata": {},
   "outputs": [
    {
     "data": {
      "text/html": [
       "<div>\n",
       "<style scoped>\n",
       "    .dataframe tbody tr th:only-of-type {\n",
       "        vertical-align: middle;\n",
       "    }\n",
       "\n",
       "    .dataframe tbody tr th {\n",
       "        vertical-align: top;\n",
       "    }\n",
       "\n",
       "    .dataframe thead th {\n",
       "        text-align: right;\n",
       "    }\n",
       "</style>\n",
       "<table border=\"1\" class=\"dataframe\">\n",
       "  <thead>\n",
       "    <tr style=\"text-align: right;\">\n",
       "      <th></th>\n",
       "      <th>student_id</th>\n",
       "      <th>engaged_with_lessons</th>\n",
       "    </tr>\n",
       "  </thead>\n",
       "  <tbody>\n",
       "    <tr>\n",
       "      <th>0</th>\n",
       "      <td>258798</td>\n",
       "      <td>1.0</td>\n",
       "    </tr>\n",
       "    <tr>\n",
       "      <th>1</th>\n",
       "      <td>258800</td>\n",
       "      <td>1.0</td>\n",
       "    </tr>\n",
       "    <tr>\n",
       "      <th>2</th>\n",
       "      <td>258803</td>\n",
       "      <td>1.0</td>\n",
       "    </tr>\n",
       "    <tr>\n",
       "      <th>3</th>\n",
       "      <td>258804</td>\n",
       "      <td>1.0</td>\n",
       "    </tr>\n",
       "    <tr>\n",
       "      <th>4</th>\n",
       "      <td>258807</td>\n",
       "      <td>1.0</td>\n",
       "    </tr>\n",
       "    <tr>\n",
       "      <th>...</th>\n",
       "      <td>...</td>\n",
       "      <td>...</td>\n",
       "    </tr>\n",
       "    <tr>\n",
       "      <th>18162</th>\n",
       "      <td>295509</td>\n",
       "      <td>1.0</td>\n",
       "    </tr>\n",
       "    <tr>\n",
       "      <th>18163</th>\n",
       "      <td>295510</td>\n",
       "      <td>1.0</td>\n",
       "    </tr>\n",
       "    <tr>\n",
       "      <th>18164</th>\n",
       "      <td>295511</td>\n",
       "      <td>1.0</td>\n",
       "    </tr>\n",
       "    <tr>\n",
       "      <th>18165</th>\n",
       "      <td>295512</td>\n",
       "      <td>1.0</td>\n",
       "    </tr>\n",
       "    <tr>\n",
       "      <th>18166</th>\n",
       "      <td>295513</td>\n",
       "      <td>1.0</td>\n",
       "    </tr>\n",
       "  </tbody>\n",
       "</table>\n",
       "<p>18163 rows × 2 columns</p>\n",
       "</div>"
      ],
      "text/plain": [
       "       student_id  engaged_with_lessons\n",
       "0          258798                   1.0\n",
       "1          258800                   1.0\n",
       "2          258803                   1.0\n",
       "3          258804                   1.0\n",
       "4          258807                   1.0\n",
       "...           ...                   ...\n",
       "18162      295509                   1.0\n",
       "18163      295510                   1.0\n",
       "18164      295511                   1.0\n",
       "18165      295512                   1.0\n",
       "18166      295513                   1.0\n",
       "\n",
       "[18163 rows x 2 columns]"
      ]
     },
     "execution_count": 141,
     "metadata": {},
     "output_type": "execute_result"
    }
   ],
   "source": [
    "engagement_lesson[engagement_lesson['engaged_with_lessons']==1]"
   ]
  },
  {
   "cell_type": "markdown",
   "id": "370e9be5",
   "metadata": {},
   "source": [
    "We remark that all the students are engaged with courses. Therfore, there is no need use this feature in the next steps\n",
    "\n",
    "Now, we'll create the engagement with quizzes feature. Again, we'll use the max aggregate as we've done in the cell above."
   ]
  },
  {
   "cell_type": "code",
   "execution_count": 142,
   "id": "5f55a646",
   "metadata": {},
   "outputs": [
    {
     "data": {
      "text/html": [
       "<div>\n",
       "<style scoped>\n",
       "    .dataframe tbody tr th:only-of-type {\n",
       "        vertical-align: middle;\n",
       "    }\n",
       "\n",
       "    .dataframe tbody tr th {\n",
       "        vertical-align: top;\n",
       "    }\n",
       "\n",
       "    .dataframe thead th {\n",
       "        text-align: right;\n",
       "    }\n",
       "</style>\n",
       "<table border=\"1\" class=\"dataframe\">\n",
       "  <thead>\n",
       "    <tr style=\"text-align: right;\">\n",
       "      <th></th>\n",
       "      <th>student_id</th>\n",
       "      <th>engaged_with_quizzes</th>\n",
       "    </tr>\n",
       "  </thead>\n",
       "  <tbody>\n",
       "    <tr>\n",
       "      <th>0</th>\n",
       "      <td>258798</td>\n",
       "      <td>0.0</td>\n",
       "    </tr>\n",
       "    <tr>\n",
       "      <th>1</th>\n",
       "      <td>258800</td>\n",
       "      <td>1.0</td>\n",
       "    </tr>\n",
       "    <tr>\n",
       "      <th>2</th>\n",
       "      <td>258803</td>\n",
       "      <td>1.0</td>\n",
       "    </tr>\n",
       "    <tr>\n",
       "      <th>3</th>\n",
       "      <td>258804</td>\n",
       "      <td>1.0</td>\n",
       "    </tr>\n",
       "    <tr>\n",
       "      <th>4</th>\n",
       "      <td>258807</td>\n",
       "      <td>0.0</td>\n",
       "    </tr>\n",
       "    <tr>\n",
       "      <th>...</th>\n",
       "      <td>...</td>\n",
       "      <td>...</td>\n",
       "    </tr>\n",
       "    <tr>\n",
       "      <th>18162</th>\n",
       "      <td>295509</td>\n",
       "      <td>0.0</td>\n",
       "    </tr>\n",
       "    <tr>\n",
       "      <th>18163</th>\n",
       "      <td>295510</td>\n",
       "      <td>0.0</td>\n",
       "    </tr>\n",
       "    <tr>\n",
       "      <th>18164</th>\n",
       "      <td>295511</td>\n",
       "      <td>1.0</td>\n",
       "    </tr>\n",
       "    <tr>\n",
       "      <th>18165</th>\n",
       "      <td>295512</td>\n",
       "      <td>1.0</td>\n",
       "    </tr>\n",
       "    <tr>\n",
       "      <th>18166</th>\n",
       "      <td>295513</td>\n",
       "      <td>0.0</td>\n",
       "    </tr>\n",
       "  </tbody>\n",
       "</table>\n",
       "<p>18167 rows × 2 columns</p>\n",
       "</div>"
      ],
      "text/plain": [
       "       student_id  engaged_with_quizzes\n",
       "0          258798                   0.0\n",
       "1          258800                   1.0\n",
       "2          258803                   1.0\n",
       "3          258804                   1.0\n",
       "4          258807                   0.0\n",
       "...           ...                   ...\n",
       "18162      295509                   0.0\n",
       "18163      295510                   0.0\n",
       "18164      295511                   1.0\n",
       "18165      295512                   1.0\n",
       "18166      295513                   0.0\n",
       "\n",
       "[18167 rows x 2 columns]"
      ]
     },
     "execution_count": 142,
     "metadata": {},
     "output_type": "execute_result"
    }
   ],
   "source": [
    "# Engagemnt with quizzes\n",
    "engagement_quiz=df2.groupby(by=['student_id'], as_index=False).agg({'engagement_quizzes': pd.Series.max}).rename({'engagement_quizzes':'engaged_with_quizzes'},axis=1)\n",
    "engagement_quiz"
   ]
  },
  {
   "cell_type": "markdown",
   "id": "f81ff0ca",
   "metadata": {},
   "source": [
    "Same for the engagement with exams feature"
   ]
  },
  {
   "cell_type": "code",
   "execution_count": 143,
   "id": "05d27f1b",
   "metadata": {},
   "outputs": [
    {
     "data": {
      "text/html": [
       "<div>\n",
       "<style scoped>\n",
       "    .dataframe tbody tr th:only-of-type {\n",
       "        vertical-align: middle;\n",
       "    }\n",
       "\n",
       "    .dataframe tbody tr th {\n",
       "        vertical-align: top;\n",
       "    }\n",
       "\n",
       "    .dataframe thead th {\n",
       "        text-align: right;\n",
       "    }\n",
       "</style>\n",
       "<table border=\"1\" class=\"dataframe\">\n",
       "  <thead>\n",
       "    <tr style=\"text-align: right;\">\n",
       "      <th></th>\n",
       "      <th>student_id</th>\n",
       "      <th>engaged_with_exams</th>\n",
       "    </tr>\n",
       "  </thead>\n",
       "  <tbody>\n",
       "    <tr>\n",
       "      <th>0</th>\n",
       "      <td>258798</td>\n",
       "      <td>0.0</td>\n",
       "    </tr>\n",
       "    <tr>\n",
       "      <th>1</th>\n",
       "      <td>258800</td>\n",
       "      <td>1.0</td>\n",
       "    </tr>\n",
       "    <tr>\n",
       "      <th>2</th>\n",
       "      <td>258803</td>\n",
       "      <td>1.0</td>\n",
       "    </tr>\n",
       "    <tr>\n",
       "      <th>3</th>\n",
       "      <td>258804</td>\n",
       "      <td>0.0</td>\n",
       "    </tr>\n",
       "    <tr>\n",
       "      <th>4</th>\n",
       "      <td>258807</td>\n",
       "      <td>0.0</td>\n",
       "    </tr>\n",
       "    <tr>\n",
       "      <th>...</th>\n",
       "      <td>...</td>\n",
       "      <td>...</td>\n",
       "    </tr>\n",
       "    <tr>\n",
       "      <th>18162</th>\n",
       "      <td>295509</td>\n",
       "      <td>0.0</td>\n",
       "    </tr>\n",
       "    <tr>\n",
       "      <th>18163</th>\n",
       "      <td>295510</td>\n",
       "      <td>0.0</td>\n",
       "    </tr>\n",
       "    <tr>\n",
       "      <th>18164</th>\n",
       "      <td>295511</td>\n",
       "      <td>0.0</td>\n",
       "    </tr>\n",
       "    <tr>\n",
       "      <th>18165</th>\n",
       "      <td>295512</td>\n",
       "      <td>0.0</td>\n",
       "    </tr>\n",
       "    <tr>\n",
       "      <th>18166</th>\n",
       "      <td>295513</td>\n",
       "      <td>0.0</td>\n",
       "    </tr>\n",
       "  </tbody>\n",
       "</table>\n",
       "<p>18167 rows × 2 columns</p>\n",
       "</div>"
      ],
      "text/plain": [
       "       student_id  engaged_with_exams\n",
       "0          258798                 0.0\n",
       "1          258800                 1.0\n",
       "2          258803                 1.0\n",
       "3          258804                 0.0\n",
       "4          258807                 0.0\n",
       "...           ...                 ...\n",
       "18162      295509                 0.0\n",
       "18163      295510                 0.0\n",
       "18164      295511                 0.0\n",
       "18165      295512                 0.0\n",
       "18166      295513                 0.0\n",
       "\n",
       "[18167 rows x 2 columns]"
      ]
     },
     "execution_count": 143,
     "metadata": {},
     "output_type": "execute_result"
    }
   ],
   "source": [
    "# Engagement with exams\n",
    "engagement_exam=df2.groupby(by=['student_id'], as_index=False).agg({'engagement_exams': pd.Series.max}).rename({'engagement_exams':'engaged_with_exams'},axis=1)\n",
    "engagement_exam"
   ]
  },
  {
   "cell_type": "markdown",
   "id": "d540eaee",
   "metadata": {},
   "source": [
    "This time, we'll create our last dependant feature : engagement with Q&A hub. As usual, we begin with grouping all the students by their id. Next, we use the nunique function that counts unique questions asked by each student and returns the number of questions that each student has asked. This number equals one of the following values [0, 1, 2, 3+].\n",
    "\n",
    "But, we aim to create a binary variable (0/1) : “1”, means “engaged”, “0” means “not engaged”. To conclude that a student is engaged with the Q&A hub we only need to be sure that he asked or answered at least one question.\n",
    "\n",
    "So we'll apply a lambda function that returns 1 whenever the number of questions asked by a student is geater than 1."
   ]
  },
  {
   "cell_type": "code",
   "execution_count": 144,
   "id": "e7b7838e",
   "metadata": {},
   "outputs": [],
   "source": [
    "student_hub_questions = pd.read_csv(\"365_student_hub_questions.csv\")"
   ]
  },
  {
   "cell_type": "code",
   "execution_count": 145,
   "id": "7c605eb4",
   "metadata": {},
   "outputs": [],
   "source": [
    "df3 = df.merge(student_hub_questions, how='left', on = 'student_id')"
   ]
  },
  {
   "cell_type": "code",
   "execution_count": 146,
   "id": "9e781456",
   "metadata": {},
   "outputs": [
    {
     "data": {
      "text/html": [
       "<div>\n",
       "<style scoped>\n",
       "    .dataframe tbody tr th:only-of-type {\n",
       "        vertical-align: middle;\n",
       "    }\n",
       "\n",
       "    .dataframe tbody tr th {\n",
       "        vertical-align: top;\n",
       "    }\n",
       "\n",
       "    .dataframe thead th {\n",
       "        text-align: right;\n",
       "    }\n",
       "</style>\n",
       "<table border=\"1\" class=\"dataframe\">\n",
       "  <thead>\n",
       "    <tr style=\"text-align: right;\">\n",
       "      <th></th>\n",
       "      <th>student_id</th>\n",
       "      <th>engaged_with_Q&amp;A</th>\n",
       "    </tr>\n",
       "  </thead>\n",
       "  <tbody>\n",
       "    <tr>\n",
       "      <th>0</th>\n",
       "      <td>258798</td>\n",
       "      <td>0</td>\n",
       "    </tr>\n",
       "    <tr>\n",
       "      <th>1</th>\n",
       "      <td>258800</td>\n",
       "      <td>0</td>\n",
       "    </tr>\n",
       "    <tr>\n",
       "      <th>2</th>\n",
       "      <td>258803</td>\n",
       "      <td>1</td>\n",
       "    </tr>\n",
       "    <tr>\n",
       "      <th>3</th>\n",
       "      <td>258804</td>\n",
       "      <td>0</td>\n",
       "    </tr>\n",
       "    <tr>\n",
       "      <th>4</th>\n",
       "      <td>258807</td>\n",
       "      <td>0</td>\n",
       "    </tr>\n",
       "    <tr>\n",
       "      <th>...</th>\n",
       "      <td>...</td>\n",
       "      <td>...</td>\n",
       "    </tr>\n",
       "    <tr>\n",
       "      <th>18162</th>\n",
       "      <td>295509</td>\n",
       "      <td>0</td>\n",
       "    </tr>\n",
       "    <tr>\n",
       "      <th>18163</th>\n",
       "      <td>295510</td>\n",
       "      <td>0</td>\n",
       "    </tr>\n",
       "    <tr>\n",
       "      <th>18164</th>\n",
       "      <td>295511</td>\n",
       "      <td>0</td>\n",
       "    </tr>\n",
       "    <tr>\n",
       "      <th>18165</th>\n",
       "      <td>295512</td>\n",
       "      <td>0</td>\n",
       "    </tr>\n",
       "    <tr>\n",
       "      <th>18166</th>\n",
       "      <td>295513</td>\n",
       "      <td>0</td>\n",
       "    </tr>\n",
       "  </tbody>\n",
       "</table>\n",
       "<p>18167 rows × 2 columns</p>\n",
       "</div>"
      ],
      "text/plain": [
       "       student_id  engaged_with_Q&A\n",
       "0          258798                 0\n",
       "1          258800                 0\n",
       "2          258803                 1\n",
       "3          258804                 0\n",
       "4          258807                 0\n",
       "...           ...               ...\n",
       "18162      295509                 0\n",
       "18163      295510                 0\n",
       "18164      295511                 0\n",
       "18165      295512                 0\n",
       "18166      295513                 0\n",
       "\n",
       "[18167 rows x 2 columns]"
      ]
     },
     "execution_count": 146,
     "metadata": {},
     "output_type": "execute_result"
    }
   ],
   "source": [
    "# Engagement with Q&A hub\n",
    "engagement_QA = df3.groupby('student_id')['hub_question_id'].nunique().apply(lambda x: 1 if x>0 else x).reset_index().rename({'hub_question_id':'engaged_with_Q&A'}, axis=1)\n",
    "engagement_QA"
   ]
  },
  {
   "cell_type": "code",
   "execution_count": 147,
   "id": "fb57200e",
   "metadata": {},
   "outputs": [
    {
     "data": {
      "text/html": [
       "<div>\n",
       "<style scoped>\n",
       "    .dataframe tbody tr th:only-of-type {\n",
       "        vertical-align: middle;\n",
       "    }\n",
       "\n",
       "    .dataframe tbody tr th {\n",
       "        vertical-align: top;\n",
       "    }\n",
       "\n",
       "    .dataframe thead th {\n",
       "        text-align: right;\n",
       "    }\n",
       "</style>\n",
       "<table border=\"1\" class=\"dataframe\">\n",
       "  <thead>\n",
       "    <tr style=\"text-align: right;\">\n",
       "      <th></th>\n",
       "      <th>student_id</th>\n",
       "      <th>engaged_with_Q&amp;A</th>\n",
       "    </tr>\n",
       "  </thead>\n",
       "  <tbody>\n",
       "    <tr>\n",
       "      <th>0</th>\n",
       "      <td>258798</td>\n",
       "      <td>0</td>\n",
       "    </tr>\n",
       "    <tr>\n",
       "      <th>1</th>\n",
       "      <td>258800</td>\n",
       "      <td>0</td>\n",
       "    </tr>\n",
       "    <tr>\n",
       "      <th>3</th>\n",
       "      <td>258804</td>\n",
       "      <td>0</td>\n",
       "    </tr>\n",
       "    <tr>\n",
       "      <th>4</th>\n",
       "      <td>258807</td>\n",
       "      <td>0</td>\n",
       "    </tr>\n",
       "    <tr>\n",
       "      <th>5</th>\n",
       "      <td>258809</td>\n",
       "      <td>0</td>\n",
       "    </tr>\n",
       "    <tr>\n",
       "      <th>...</th>\n",
       "      <td>...</td>\n",
       "      <td>...</td>\n",
       "    </tr>\n",
       "    <tr>\n",
       "      <th>18162</th>\n",
       "      <td>295509</td>\n",
       "      <td>0</td>\n",
       "    </tr>\n",
       "    <tr>\n",
       "      <th>18163</th>\n",
       "      <td>295510</td>\n",
       "      <td>0</td>\n",
       "    </tr>\n",
       "    <tr>\n",
       "      <th>18164</th>\n",
       "      <td>295511</td>\n",
       "      <td>0</td>\n",
       "    </tr>\n",
       "    <tr>\n",
       "      <th>18165</th>\n",
       "      <td>295512</td>\n",
       "      <td>0</td>\n",
       "    </tr>\n",
       "    <tr>\n",
       "      <th>18166</th>\n",
       "      <td>295513</td>\n",
       "      <td>0</td>\n",
       "    </tr>\n",
       "  </tbody>\n",
       "</table>\n",
       "<p>17898 rows × 2 columns</p>\n",
       "</div>"
      ],
      "text/plain": [
       "       student_id  engaged_with_Q&A\n",
       "0          258798                 0\n",
       "1          258800                 0\n",
       "3          258804                 0\n",
       "4          258807                 0\n",
       "5          258809                 0\n",
       "...           ...               ...\n",
       "18162      295509                 0\n",
       "18163      295510                 0\n",
       "18164      295511                 0\n",
       "18165      295512                 0\n",
       "18166      295513                 0\n",
       "\n",
       "[17898 rows x 2 columns]"
      ]
     },
     "execution_count": 147,
     "metadata": {},
     "output_type": "execute_result"
    }
   ],
   "source": [
    "engagement_QA[engagement_QA['engaged_with_Q&A']==0]"
   ]
  },
  {
   "cell_type": "code",
   "execution_count": 148,
   "id": "1e80ef49",
   "metadata": {},
   "outputs": [
    {
     "data": {
      "text/plain": [
       "array([0, 1], dtype=int64)"
      ]
     },
     "execution_count": 148,
     "metadata": {},
     "output_type": "execute_result"
    }
   ],
   "source": [
    "engagement_QA['engaged_with_Q&A'].unique()"
   ]
  },
  {
   "cell_type": "markdown",
   "id": "c2b1c459",
   "metadata": {},
   "source": [
    "Now it's time to create our target variable : subscribed. First we begin with grouping all the students by their id. Then, we use the nunique function that counts unique purchase type for each student. \n",
    "\n",
    "\"purchase_type\" is a categorical variable (\"Monthly\", \"Annual\", \"Quartely\"). So nunique returns one of the following values \n",
    "[0, 1, 2, 3].\n",
    "\n",
    "But, we aim to create a binary variable (0/1) : “1”, means “subscribed”, “0” means “not subscribed”. To conclude that a student is subscribed we only need to be sure that he purchased at least one type.\n",
    "\n",
    "So we'll apply a lambda function that returns 1 whenever the number of purchases done by a student is geater than 1."
   ]
  },
  {
   "cell_type": "code",
   "execution_count": 149,
   "id": "45e7b6d5",
   "metadata": {},
   "outputs": [
    {
     "data": {
      "text/html": [
       "<div>\n",
       "<style scoped>\n",
       "    .dataframe tbody tr th:only-of-type {\n",
       "        vertical-align: middle;\n",
       "    }\n",
       "\n",
       "    .dataframe tbody tr th {\n",
       "        vertical-align: top;\n",
       "    }\n",
       "\n",
       "    .dataframe thead th {\n",
       "        text-align: right;\n",
       "    }\n",
       "</style>\n",
       "<table border=\"1\" class=\"dataframe\">\n",
       "  <thead>\n",
       "    <tr style=\"text-align: right;\">\n",
       "      <th></th>\n",
       "      <th>student_id</th>\n",
       "      <th>subscribed</th>\n",
       "    </tr>\n",
       "  </thead>\n",
       "  <tbody>\n",
       "    <tr>\n",
       "      <th>0</th>\n",
       "      <td>258798</td>\n",
       "      <td>0</td>\n",
       "    </tr>\n",
       "    <tr>\n",
       "      <th>1</th>\n",
       "      <td>258800</td>\n",
       "      <td>1</td>\n",
       "    </tr>\n",
       "    <tr>\n",
       "      <th>2</th>\n",
       "      <td>258803</td>\n",
       "      <td>1</td>\n",
       "    </tr>\n",
       "    <tr>\n",
       "      <th>3</th>\n",
       "      <td>258804</td>\n",
       "      <td>0</td>\n",
       "    </tr>\n",
       "    <tr>\n",
       "      <th>4</th>\n",
       "      <td>258807</td>\n",
       "      <td>0</td>\n",
       "    </tr>\n",
       "    <tr>\n",
       "      <th>...</th>\n",
       "      <td>...</td>\n",
       "      <td>...</td>\n",
       "    </tr>\n",
       "    <tr>\n",
       "      <th>18162</th>\n",
       "      <td>295509</td>\n",
       "      <td>0</td>\n",
       "    </tr>\n",
       "    <tr>\n",
       "      <th>18163</th>\n",
       "      <td>295510</td>\n",
       "      <td>0</td>\n",
       "    </tr>\n",
       "    <tr>\n",
       "      <th>18164</th>\n",
       "      <td>295511</td>\n",
       "      <td>0</td>\n",
       "    </tr>\n",
       "    <tr>\n",
       "      <th>18165</th>\n",
       "      <td>295512</td>\n",
       "      <td>0</td>\n",
       "    </tr>\n",
       "    <tr>\n",
       "      <th>18166</th>\n",
       "      <td>295513</td>\n",
       "      <td>0</td>\n",
       "    </tr>\n",
       "  </tbody>\n",
       "</table>\n",
       "<p>18167 rows × 2 columns</p>\n",
       "</div>"
      ],
      "text/plain": [
       "       student_id  subscribed\n",
       "0          258798           0\n",
       "1          258800           1\n",
       "2          258803           1\n",
       "3          258804           0\n",
       "4          258807           0\n",
       "...           ...         ...\n",
       "18162      295509           0\n",
       "18163      295510           0\n",
       "18164      295511           0\n",
       "18165      295512           0\n",
       "18166      295513           0\n",
       "\n",
       "[18167 rows x 2 columns]"
      ]
     },
     "execution_count": 149,
     "metadata": {},
     "output_type": "execute_result"
    }
   ],
   "source": [
    "subscription=df.groupby('student_id')['purchase_type'].nunique().apply(lambda x: 1 if x>0 else x).reset_index().rename({'purchase_type':'subscribed'}, axis=1)\n",
    "subscription"
   ]
  },
  {
   "cell_type": "code",
   "execution_count": 150,
   "id": "a0d01ca9",
   "metadata": {},
   "outputs": [
    {
     "data": {
      "text/plain": [
       "(2027, 2)"
      ]
     },
     "execution_count": 150,
     "metadata": {},
     "output_type": "execute_result"
    }
   ],
   "source": [
    "subscription[subscription['subscribed']==1].shape"
   ]
  },
  {
   "cell_type": "code",
   "execution_count": 151,
   "id": "4f48a3e3",
   "metadata": {},
   "outputs": [
    {
     "data": {
      "text/html": [
       "<div>\n",
       "<style scoped>\n",
       "    .dataframe tbody tr th:only-of-type {\n",
       "        vertical-align: middle;\n",
       "    }\n",
       "\n",
       "    .dataframe tbody tr th {\n",
       "        vertical-align: top;\n",
       "    }\n",
       "\n",
       "    .dataframe thead th {\n",
       "        text-align: right;\n",
       "    }\n",
       "</style>\n",
       "<table border=\"1\" class=\"dataframe\">\n",
       "  <thead>\n",
       "    <tr style=\"text-align: right;\">\n",
       "      <th></th>\n",
       "      <th>student_id</th>\n",
       "      <th>subscribed</th>\n",
       "    </tr>\n",
       "  </thead>\n",
       "  <tbody>\n",
       "    <tr>\n",
       "      <th>0</th>\n",
       "      <td>258798</td>\n",
       "      <td>0</td>\n",
       "    </tr>\n",
       "    <tr>\n",
       "      <th>3</th>\n",
       "      <td>258804</td>\n",
       "      <td>0</td>\n",
       "    </tr>\n",
       "    <tr>\n",
       "      <th>4</th>\n",
       "      <td>258807</td>\n",
       "      <td>0</td>\n",
       "    </tr>\n",
       "    <tr>\n",
       "      <th>5</th>\n",
       "      <td>258809</td>\n",
       "      <td>0</td>\n",
       "    </tr>\n",
       "    <tr>\n",
       "      <th>6</th>\n",
       "      <td>258810</td>\n",
       "      <td>0</td>\n",
       "    </tr>\n",
       "    <tr>\n",
       "      <th>...</th>\n",
       "      <td>...</td>\n",
       "      <td>...</td>\n",
       "    </tr>\n",
       "    <tr>\n",
       "      <th>18162</th>\n",
       "      <td>295509</td>\n",
       "      <td>0</td>\n",
       "    </tr>\n",
       "    <tr>\n",
       "      <th>18163</th>\n",
       "      <td>295510</td>\n",
       "      <td>0</td>\n",
       "    </tr>\n",
       "    <tr>\n",
       "      <th>18164</th>\n",
       "      <td>295511</td>\n",
       "      <td>0</td>\n",
       "    </tr>\n",
       "    <tr>\n",
       "      <th>18165</th>\n",
       "      <td>295512</td>\n",
       "      <td>0</td>\n",
       "    </tr>\n",
       "    <tr>\n",
       "      <th>18166</th>\n",
       "      <td>295513</td>\n",
       "      <td>0</td>\n",
       "    </tr>\n",
       "  </tbody>\n",
       "</table>\n",
       "<p>16140 rows × 2 columns</p>\n",
       "</div>"
      ],
      "text/plain": [
       "       student_id  subscribed\n",
       "0          258798           0\n",
       "3          258804           0\n",
       "4          258807           0\n",
       "5          258809           0\n",
       "6          258810           0\n",
       "...           ...         ...\n",
       "18162      295509           0\n",
       "18163      295510           0\n",
       "18164      295511           0\n",
       "18165      295512           0\n",
       "18166      295513           0\n",
       "\n",
       "[16140 rows x 2 columns]"
      ]
     },
     "execution_count": 151,
     "metadata": {},
     "output_type": "execute_result"
    }
   ],
   "source": [
    "subscription[subscription['subscribed']==0]"
   ]
  },
  {
   "cell_type": "code",
   "execution_count": 152,
   "id": "b7c4f0d8",
   "metadata": {},
   "outputs": [
    {
     "data": {
      "text/plain": [
       "array([0, 1], dtype=int64)"
      ]
     },
     "execution_count": 152,
     "metadata": {},
     "output_type": "execute_result"
    }
   ],
   "source": [
    "subscription['subscribed'].unique()"
   ]
  },
  {
   "cell_type": "markdown",
   "id": "c0d1c99b",
   "metadata": {},
   "source": [
    "Let's merge all the features into one dataset in order tp apply any preprocessing needed"
   ]
  },
  {
   "cell_type": "code",
   "execution_count": 153,
   "id": "ce03df49",
   "metadata": {},
   "outputs": [],
   "source": [
    "df_final = pd.merge(minutes_watched, courses_enrolled, how='left', on='student_id').merge(engagement_days, how='left', on='student_id').merge(engagement_quiz, how='left', on='student_id').merge(engagement_exam, how='left', on='student_id').merge(engagement_QA, how='left', on='student_id').merge(subscription, how='left', on='student_id')"
   ]
  },
  {
   "cell_type": "code",
   "execution_count": 154,
   "id": "5f8140ef",
   "metadata": {},
   "outputs": [
    {
     "data": {
      "text/html": [
       "<div>\n",
       "<style scoped>\n",
       "    .dataframe tbody tr th:only-of-type {\n",
       "        vertical-align: middle;\n",
       "    }\n",
       "\n",
       "    .dataframe tbody tr th {\n",
       "        vertical-align: top;\n",
       "    }\n",
       "\n",
       "    .dataframe thead th {\n",
       "        text-align: right;\n",
       "    }\n",
       "</style>\n",
       "<table border=\"1\" class=\"dataframe\">\n",
       "  <thead>\n",
       "    <tr style=\"text-align: right;\">\n",
       "      <th></th>\n",
       "      <th>student_id</th>\n",
       "      <th>total_minutes_watched</th>\n",
       "      <th>total_courses_enrolled</th>\n",
       "      <th>engagement_days</th>\n",
       "      <th>engaged_with_quizzes</th>\n",
       "      <th>engaged_with_exams</th>\n",
       "      <th>engaged_with_Q&amp;A</th>\n",
       "      <th>subscribed</th>\n",
       "    </tr>\n",
       "  </thead>\n",
       "  <tbody>\n",
       "    <tr>\n",
       "      <th>0</th>\n",
       "      <td>258798</td>\n",
       "      <td>0.3</td>\n",
       "      <td>1</td>\n",
       "      <td>1</td>\n",
       "      <td>0.0</td>\n",
       "      <td>0.0</td>\n",
       "      <td>0</td>\n",
       "      <td>0</td>\n",
       "    </tr>\n",
       "    <tr>\n",
       "      <th>1</th>\n",
       "      <td>258800</td>\n",
       "      <td>531.2</td>\n",
       "      <td>9</td>\n",
       "      <td>29</td>\n",
       "      <td>1.0</td>\n",
       "      <td>1.0</td>\n",
       "      <td>0</td>\n",
       "      <td>1</td>\n",
       "    </tr>\n",
       "    <tr>\n",
       "      <th>2</th>\n",
       "      <td>258803</td>\n",
       "      <td>620.0</td>\n",
       "      <td>3</td>\n",
       "      <td>19</td>\n",
       "      <td>1.0</td>\n",
       "      <td>1.0</td>\n",
       "      <td>1</td>\n",
       "      <td>1</td>\n",
       "    </tr>\n",
       "    <tr>\n",
       "      <th>3</th>\n",
       "      <td>258804</td>\n",
       "      <td>14.2</td>\n",
       "      <td>1</td>\n",
       "      <td>1</td>\n",
       "      <td>1.0</td>\n",
       "      <td>0.0</td>\n",
       "      <td>0</td>\n",
       "      <td>0</td>\n",
       "    </tr>\n",
       "    <tr>\n",
       "      <th>4</th>\n",
       "      <td>258807</td>\n",
       "      <td>1.8</td>\n",
       "      <td>1</td>\n",
       "      <td>1</td>\n",
       "      <td>0.0</td>\n",
       "      <td>0.0</td>\n",
       "      <td>0</td>\n",
       "      <td>0</td>\n",
       "    </tr>\n",
       "  </tbody>\n",
       "</table>\n",
       "</div>"
      ],
      "text/plain": [
       "   student_id  total_minutes_watched  total_courses_enrolled  engagement_days  \\\n",
       "0      258798                    0.3                       1                1   \n",
       "1      258800                  531.2                       9               29   \n",
       "2      258803                  620.0                       3               19   \n",
       "3      258804                   14.2                       1                1   \n",
       "4      258807                    1.8                       1                1   \n",
       "\n",
       "   engaged_with_quizzes  engaged_with_exams  engaged_with_Q&A  subscribed  \n",
       "0                   0.0                 0.0                 0           0  \n",
       "1                   1.0                 1.0                 0           1  \n",
       "2                   1.0                 1.0                 1           1  \n",
       "3                   1.0                 0.0                 0           0  \n",
       "4                   0.0                 0.0                 0           0  "
      ]
     },
     "execution_count": 154,
     "metadata": {},
     "output_type": "execute_result"
    }
   ],
   "source": [
    "df_final.head()"
   ]
  },
  {
   "cell_type": "code",
   "execution_count": 155,
   "id": "ae9718c0",
   "metadata": {},
   "outputs": [
    {
     "data": {
      "text/plain": [
       "(18167, 8)"
      ]
     },
     "execution_count": 155,
     "metadata": {},
     "output_type": "execute_result"
    }
   ],
   "source": [
    "df_final.shape"
   ]
  },
  {
   "cell_type": "markdown",
   "id": "14ad3589",
   "metadata": {},
   "source": [
    "Our final dataset includes 8 columns and 18167 records "
   ]
  },
  {
   "cell_type": "markdown",
   "id": "5d26cfd3",
   "metadata": {},
   "source": [
    "## Exploratory Data Analysis (EDA)"
   ]
  },
  {
   "cell_type": "markdown",
   "id": "f735c7bf",
   "metadata": {},
   "source": [
    "### Handling missing values"
   ]
  },
  {
   "cell_type": "markdown",
   "id": "324677f2",
   "metadata": {},
   "source": [
    "Let's check if there is any missing values in our dataset"
   ]
  },
  {
   "cell_type": "code",
   "execution_count": 156,
   "id": "8f104a57",
   "metadata": {},
   "outputs": [
    {
     "data": {
      "text/plain": [
       "student_id                0\n",
       "total_minutes_watched     0\n",
       "total_courses_enrolled    0\n",
       "engagement_days           0\n",
       "engaged_with_quizzes      3\n",
       "engaged_with_exams        3\n",
       "engaged_with_Q&A          0\n",
       "subscribed                0\n",
       "dtype: int64"
      ]
     },
     "execution_count": 156,
     "metadata": {},
     "output_type": "execute_result"
    }
   ],
   "source": [
    "# count missing values\n",
    "df_final.isnull().sum()"
   ]
  },
  {
   "cell_type": "markdown",
   "id": "98da983a",
   "metadata": {},
   "source": [
    "Luckily, We have small number of missing values (3 << 18167). So we can drop those observations using dropna function"
   ]
  },
  {
   "cell_type": "code",
   "execution_count": 157,
   "id": "eff12515",
   "metadata": {},
   "outputs": [
    {
     "data": {
      "text/plain": [
       "student_id                0\n",
       "total_minutes_watched     0\n",
       "total_courses_enrolled    0\n",
       "engagement_days           0\n",
       "engaged_with_quizzes      0\n",
       "engaged_with_exams        0\n",
       "engaged_with_Q&A          0\n",
       "subscribed                0\n",
       "dtype: int64"
      ]
     },
     "execution_count": 157,
     "metadata": {},
     "output_type": "execute_result"
    }
   ],
   "source": [
    "# drop missing values using dropna function\n",
    "df_final.dropna(subset=['engaged_with_quizzes', 'engaged_with_exams'], inplace=True)\n",
    "df_final.isnull().sum()"
   ]
  },
  {
   "cell_type": "code",
   "execution_count": 158,
   "id": "f9a8b0a0",
   "metadata": {},
   "outputs": [
    {
     "name": "stdout",
     "output_type": "stream",
     "text": [
      "<class 'pandas.core.frame.DataFrame'>\n",
      "Int64Index: 18164 entries, 0 to 18166\n",
      "Data columns (total 8 columns):\n",
      " #   Column                  Non-Null Count  Dtype  \n",
      "---  ------                  --------------  -----  \n",
      " 0   student_id              18164 non-null  int64  \n",
      " 1   total_minutes_watched   18164 non-null  float64\n",
      " 2   total_courses_enrolled  18164 non-null  int64  \n",
      " 3   engagement_days         18164 non-null  int64  \n",
      " 4   engaged_with_quizzes    18164 non-null  float64\n",
      " 5   engaged_with_exams      18164 non-null  float64\n",
      " 6   engaged_with_Q&A        18164 non-null  int64  \n",
      " 7   subscribed              18164 non-null  int64  \n",
      "dtypes: float64(3), int64(5)\n",
      "memory usage: 1.2 MB\n"
     ]
    }
   ],
   "source": [
    "df_final.info()"
   ]
  },
  {
   "cell_type": "markdown",
   "id": "ebfdafe4",
   "metadata": {},
   "source": [
    "ALL features are numerical which is great. Now, let's take a look at our target variable"
   ]
  },
  {
   "cell_type": "code",
   "execution_count": null,
   "id": "227c0f6c",
   "metadata": {},
   "outputs": [],
   "source": []
  },
  {
   "cell_type": "code",
   "execution_count": 159,
   "id": "bc2d4d3f",
   "metadata": {},
   "outputs": [
    {
     "data": {
      "text/plain": [
       "0    16137\n",
       "1     2027\n",
       "Name: subscribed, dtype: int64"
      ]
     },
     "execution_count": 159,
     "metadata": {},
     "output_type": "execute_result"
    }
   ],
   "source": [
    "df_final['subscribed'].value_counts()"
   ]
  },
  {
   "cell_type": "code",
   "execution_count": 160,
   "id": "0b1b02c6",
   "metadata": {},
   "outputs": [
    {
     "data": {
      "image/png": "[encoded data removed]",
      "text/plain": [
       "<Figure size 504x360 with 1 Axes>"
      ]
     },
     "metadata": {},
     "output_type": "display_data"
    }
   ],
   "source": [
    "sns.set_style('ticks')\n",
    "plt.figure(figsize=(7,5))\n",
    "sns.countplot(data=df_final, x='subscribed', palette='autumn', saturation=1)\n",
    "plt.title(\"Class Distributions \\n (0: Not Subscribed || 1: Subscribed)\", fontdict={'fontsize':18,'fontweight':'bold','color': 'grey'}, loc='center')\n",
    "plt.savefig('before re-sampling imbalanced classes')"
   ]
  },
  {
   "cell_type": "code",
   "execution_count": 161,
   "id": "af04e623",
   "metadata": {},
   "outputs": [
    {
     "name": "stdout",
     "output_type": "stream",
     "text": [
      "Percentage of subscribed students :  88.84\n",
      "Percentage of not subscribed students :  11.16\n"
     ]
    }
   ],
   "source": [
    "not_sub = len(df_final[df_final['subscribed']==0])\n",
    "sub = len(df_final[df_final['subscribed']==1])\n",
    "pct_not_sub = not_sub/(not_sub+sub)\n",
    "print(\"Percentage of subscribed students : \", round(pct_not_sub*100, 2))\n",
    "pct_sub = sub/(not_sub+sub)\n",
    "print(\"Percentage of not subscribed students : \", round(pct_sub*100, 2))"
   ]
  },
  {
   "cell_type": "markdown",
   "id": "959d2d88",
   "metadata": {},
   "source": [
    "Our classes are imbalanced. Most of the students were not subscribed (88.84%) of the time, while subscribed students occur (11.16%) of the time in the dataframe.\n",
    "\n",
    "Before we go ahead to balance the classes, let’s do some more exploration"
   ]
  },
  {
   "cell_type": "markdown",
   "id": "51301540",
   "metadata": {},
   "source": [
    "### Visualizing relationships between features"
   ]
  },
  {
   "cell_type": "code",
   "execution_count": 162,
   "id": "2b01b24b",
   "metadata": {},
   "outputs": [
    {
     "data": {
      "image/png": "[encoded data removed]",
      "text/plain": [
       "<Figure size 504x360 with 1 Axes>"
      ]
     },
     "metadata": {},
     "output_type": "display_data"
    }
   ],
   "source": [
    "# subscription vs engagement with quizzes\n",
    "plt.rcParams[\"figure.figsize\"] = (7, 5)\n",
    "pd.crosstab(df_final['engaged_with_quizzes'],df_final['subscribed']).plot.bar(stacked=True)\n",
    "plt.title('Subscription vs Engagement with Quizzes', fontdict={'fontsize':18,'fontweight':'bold','color': 'grey'}, loc='center')\n",
    "plt.savefig('subscription vs engagement with quizze')"
   ]
  },
  {
   "cell_type": "markdown",
   "id": "ecff5c18",
   "metadata": {},
   "source": [
    "Student's  engagement with quizzes seems to be a good predictor for the outcome variable"
   ]
  },
  {
   "cell_type": "code",
   "execution_count": 163,
   "id": "7cfdd223",
   "metadata": {},
   "outputs": [
    {
     "data": {
      "image/png": "[encoded data removed]",
      "text/plain": [
       "<Figure size 504x360 with 1 Axes>"
      ]
     },
     "metadata": {},
     "output_type": "display_data"
    }
   ],
   "source": [
    "# subscription vs engagement with exams\n",
    "pd.crosstab(df_final['engaged_with_exams'],df_final['subscribed']).plot.bar(stacked=True)\n",
    "plt.title('Subscription vs Engagement with Exams', fontdict={'fontsize':18,'fontweight':'bold','color': 'grey'}, loc='center')\n",
    "plt.savefig('subscription vs engagement with exams')"
   ]
  },
  {
   "cell_type": "markdown",
   "id": "f1abe992",
   "metadata": {},
   "source": [
    "Student's engagement with exams can be a good predictor of the outcome variable."
   ]
  },
  {
   "cell_type": "code",
   "execution_count": 164,
   "id": "3c0e1744",
   "metadata": {},
   "outputs": [
    {
     "data": {
      "image/png": "[encoded data removed]",
      "text/plain": [
       "<Figure size 504x360 with 1 Axes>"
      ]
     },
     "metadata": {},
     "output_type": "display_data"
    }
   ],
   "source": [
    "#subscription vs engagement with Q&A\n",
    "pd.crosstab(df_final['engaged_with_Q&A'],df_final['subscribed']).plot.bar(stacked=True)\n",
    "plt.title('Subscription vs Engagement with Q&A', fontdict={'fontsize':18,'fontweight':'bold','color': 'grey'}, loc='center')\n",
    "plt.savefig('subscription vs engagement with Q&A')"
   ]
  },
  {
   "cell_type": "markdown",
   "id": "0d261506",
   "metadata": {},
   "source": [
    "Student's engagement with the Q&A hub might not be a good predictor of the outcome variable."
   ]
  },
  {
   "cell_type": "code",
   "execution_count": 165,
   "id": "78d612f1",
   "metadata": {},
   "outputs": [
    {
     "data": {
      "image/png": "[encoded data removed]",
      "text/plain": [
       "<Figure size 504x360 with 1 Axes>"
      ]
     },
     "metadata": {},
     "output_type": "display_data"
    }
   ],
   "source": [
    "# subscription vs total_minutes_watched\n",
    "sns.scatterplot(data=df_final,x='subscribed',y='total_minutes_watched')\n",
    "plt.title('Subscription vs Total Minutes Watched', fontdict={'fontsize':18,'fontweight':'bold','color': 'grey'}, loc='center')\n",
    "plt.savefig('subscription vs total minutes watched')"
   ]
  },
  {
   "cell_type": "markdown",
   "id": "3742a4bc",
   "metadata": {},
   "source": [
    "Total minutes watched per student depends heavily on student's subscription. So total minutes watched might be a good estimator for the outcome variable."
   ]
  },
  {
   "cell_type": "code",
   "execution_count": 166,
   "id": "68e9e531",
   "metadata": {},
   "outputs": [
    {
     "data": {
      "image/png": "[encoded data removed]",
      "text/plain": [
       "<Figure size 504x360 with 1 Axes>"
      ]
     },
     "metadata": {},
     "output_type": "display_data"
    }
   ],
   "source": [
    "# subscription vs engagement_days\n",
    "sns.scatterplot(data=df_final,x='subscribed',y='engagement_days')\n",
    "plt.title('Subscription vs Engagement Days', fontdict={'fontsize':18,'fontweight':'bold','color': 'grey'}, loc='center')\n",
    "plt.savefig('subscription vs engagement days')"
   ]
  },
  {
   "cell_type": "code",
   "execution_count": 167,
   "id": "3385721a",
   "metadata": {},
   "outputs": [
    {
     "data": {
      "image/png": "[encoded data removed]",
      "text/plain": [
       "<Figure size 504x360 with 1 Axes>"
      ]
     },
     "metadata": {},
     "output_type": "display_data"
    }
   ],
   "source": [
    "# subscription vs total_courses_enrolled\n",
    "sns.scatterplot(data=df_final,x='subscribed',y='total_courses_enrolled')\n",
    "plt.title('Subscription vs Total Courses Enrolled', fontdict={'fontsize':18,'fontweight':'bold','color': 'grey'}, loc='center')\n",
    "plt.savefig('subscription vs total courses enrolled')"
   ]
  },
  {
   "cell_type": "markdown",
   "id": "2a7a7db1",
   "metadata": {},
   "source": [
    "Same thing goes with the number of days in wich a student was engaged and the number of courses enrolled per student."
   ]
  },
  {
   "cell_type": "markdown",
   "id": "a82280d9",
   "metadata": {},
   "source": [
    "### Correlations"
   ]
  },
  {
   "cell_type": "markdown",
   "id": "87a2723c",
   "metadata": {},
   "source": [
    "Now let's visualize correlations between features \n",
    " - Correlations between numerical variables\n",
    " - Correlations between target and indepandant features"
   ]
  },
  {
   "cell_type": "code",
   "execution_count": 168,
   "id": "bd4fc0be",
   "metadata": {},
   "outputs": [],
   "source": [
    "# correlation matrix\n",
    "corr_matrix=df_final.drop('student_id', axis=1).corr()"
   ]
  },
  {
   "cell_type": "code",
   "execution_count": 169,
   "id": "71e1b65c",
   "metadata": {},
   "outputs": [
    {
     "data": {
      "image/png": "[encoded data removed]",
      "text/plain": [
       "<Figure size 576x432 with 2 Axes>"
      ]
     },
     "metadata": {},
     "output_type": "display_data"
    }
   ],
   "source": [
    "# correlations between numerical variables\n",
    "plt.figure(figsize=(8,6))\n",
    "sns.heatmap(corr_matrix,cbar=True,annot=True,cmap='RdBu')\n",
    "plt.title(\"Correlations Between Numerical Variables\",fontdict={'fontsize':18,'fontweight':'bold','color': 'grey'}, loc='center')\n",
    "plt.savefig('Correlations')"
   ]
  },
  {
   "cell_type": "code",
   "execution_count": 170,
   "id": "036a67f0",
   "metadata": {},
   "outputs": [
    {
     "data": {
      "text/plain": [
       "subscribed                1.00\n",
       "engagement_days           0.59\n",
       "total_courses_enrolled    0.58\n",
       "engaged_with_exams        0.50\n",
       "total_minutes_watched     0.36\n",
       "engaged_with_quizzes      0.35\n",
       "engaged_with_Q&A          0.25\n",
       "Name: subscribed, dtype: float64"
      ]
     },
     "execution_count": 170,
     "metadata": {},
     "output_type": "execute_result"
    }
   ],
   "source": [
    "# correlations between target and indepandant features\n",
    "corr_matrix['subscribed'].sort_values(ascending=False).round(2)"
   ]
  },
  {
   "cell_type": "markdown",
   "id": "9847d4d2",
   "metadata": {},
   "source": [
    "Observations :\n",
    " - Multicolinearity exists, there are high correlations between some predictor variables.\n",
    " - All independant features are positively correlated to the target variable.\n",
    " - There is a strong correlation between \"engagement_days\", \"total_courses_enrolled\" and the outcome variable."
   ]
  },
  {
   "cell_type": "code",
   "execution_count": 171,
   "id": "352c428b",
   "metadata": {},
   "outputs": [
    {
     "data": {
      "text/plain": [
       "['total_minutes_watched',\n",
       " 'total_courses_enrolled',\n",
       " 'engagement_days',\n",
       " 'engaged_with_quizzes',\n",
       " 'engaged_with_exams',\n",
       " 'engaged_with_Q&A']"
      ]
     },
     "execution_count": 171,
     "metadata": {},
     "output_type": "execute_result"
    }
   ],
   "source": [
    "numerical_variables = df_final.columns.tolist()\n",
    "numerical_variables.remove('student_id')\n",
    "numerical_variables.remove('subscribed')\n",
    "numerical_variables"
   ]
  },
  {
   "cell_type": "markdown",
   "id": "f0873dd9",
   "metadata": {},
   "source": [
    "Let's find out if correlations are statistically significant using p-value of Pearson coefficient"
   ]
  },
  {
   "cell_type": "code",
   "execution_count": 172,
   "id": "c7ca6682",
   "metadata": {},
   "outputs": [],
   "source": [
    "def p_value_pearson_coef(df,Y):\n",
    "    for col in df[numerical_variables]:\n",
    "        result = stats.pearsonr(df[col], df[Y])\n",
    "        print(col)\n",
    "        print(result)"
   ]
  },
  {
   "cell_type": "code",
   "execution_count": 173,
   "id": "9fbf919e",
   "metadata": {},
   "outputs": [
    {
     "name": "stdout",
     "output_type": "stream",
     "text": [
      "total_minutes_watched\n",
      "PearsonRResult(statistic=0.3627247459522953, pvalue=0.0)\n",
      "total_courses_enrolled\n",
      "PearsonRResult(statistic=0.5792509535105388, pvalue=0.0)\n",
      "engagement_days\n",
      "PearsonRResult(statistic=0.588081976016594, pvalue=0.0)\n",
      "engaged_with_quizzes\n",
      "PearsonRResult(statistic=0.3462910268305746, pvalue=0.0)\n",
      "engaged_with_exams\n",
      "PearsonRResult(statistic=0.4981601220126326, pvalue=0.0)\n",
      "engaged_with_Q&A\n",
      "PearsonRResult(statistic=0.2532925471240121, pvalue=7.282965627080299e-264)\n"
     ]
    }
   ],
   "source": [
    "p_value_pearson_coef(df_final,'subscribed')"
   ]
  },
  {
   "cell_type": "markdown",
   "id": "c88b3491",
   "metadata": {},
   "source": [
    "All p-values are lower than 5% (pvalue=0.0 << 5%). So correlation coefficients between indepandent variables and the target are statistically significant "
   ]
  },
  {
   "cell_type": "markdown",
   "id": "3e8c3eb0",
   "metadata": {},
   "source": [
    "Now, we have to handle multicolinearity. To do so, we'll use PCA technique"
   ]
  },
  {
   "cell_type": "markdown",
   "id": "2e622303",
   "metadata": {},
   "source": [
    "## Principal Component Analysis (PCA) "
   ]
  },
  {
   "cell_type": "markdown",
   "id": "c64e484e",
   "metadata": {},
   "source": [
    "In order to minimize the correlation between different features and reduce the feature space, we'll use PCA technique.\n",
    "\n",
    "PCA is a linear transformation algorithm that seeks to project the original features of our data onto a smaller set of features while still retaining most of the information.\n",
    "\n",
    "Before implementing the PCA transformation, we should split our data into train and test sets and separate the features from the labels.\n",
    "\n",
    "***Why?***  For testing purposes."
   ]
  },
  {
   "cell_type": "markdown",
   "id": "f0a58eab",
   "metadata": {},
   "source": [
    "### Splitting the data into training and test sets"
   ]
  },
  {
   "cell_type": "code",
   "execution_count": 174,
   "id": "3846ea4b",
   "metadata": {},
   "outputs": [],
   "source": [
    "data=df_final.copy()"
   ]
  },
  {
   "cell_type": "code",
   "execution_count": 175,
   "id": "12a02cad",
   "metadata": {},
   "outputs": [],
   "source": [
    "# separate out the features\n",
    "X = data.drop(['subscribed','student_id'], axis=1)\n",
    "\n",
    "# separate out the target\n",
    "y = data['subscribed']"
   ]
  },
  {
   "cell_type": "markdown",
   "id": "b21d885e",
   "metadata": {},
   "source": [
    "To ensure that the train and test sets have approximately the same percentage of samples of each target class as the complete set, we do a single stratified sampling based on the target variable while splitting the data"
   ]
  },
  {
   "cell_type": "code",
   "execution_count": 176,
   "id": "10a3d179",
   "metadata": {},
   "outputs": [],
   "source": [
    "# split the data into train and test sets\n",
    "X_train, X_test, y_train, y_test = train_test_split(X, y, test_size=0.2, random_state=7, stratify=y)"
   ]
  },
  {
   "cell_type": "markdown",
   "id": "3cc4e20f",
   "metadata": {},
   "source": [
    "### Scaling the data"
   ]
  },
  {
   "cell_type": "markdown",
   "id": "3e2f0d72",
   "metadata": {},
   "source": [
    "In order to implement a PCA transformation features need to be previously scaled. We'll use StandardScaler to standardize the dataset’s features into unit scale (mean = 0 and variance = 1) "
   ]
  },
  {
   "cell_type": "code",
   "execution_count": 177,
   "id": "4ce46cf8",
   "metadata": {},
   "outputs": [],
   "source": [
    "# fit scaler on training data\n",
    "scaler = StandardScaler().fit(X_train)\n",
    "\n",
    "# transform training data\n",
    "X_train = scaler.transform(X_train)\n",
    "\n",
    "# transform testing data\n",
    "X_test = scaler.transform(X_test)"
   ]
  },
  {
   "cell_type": "markdown",
   "id": "8be3189b",
   "metadata": {},
   "source": [
    "### PCA transformation"
   ]
  },
  {
   "cell_type": "code",
   "execution_count": 178,
   "id": "6a408037",
   "metadata": {},
   "outputs": [
    {
     "data": {
      "image/png": "[encoded data removed]",
      "text/plain": [
       "<Figure size 432x288 with 1 Axes>"
      ]
     },
     "metadata": {},
     "output_type": "display_data"
    }
   ],
   "source": [
    "# 3 Principal Components\n",
    "pca = PCA(n_components=3)\n",
    "principal_components = pca.fit_transform(X_train)\n",
    "principal_df = pd.DataFrame(data=principal_components, \n",
    "                            columns=['principal component 1', 'principal component 2', 'principal component 3'])\n",
    "pca_final_df= pd.concat([principal_df, y_train], axis=1)   \n",
    "pca_final_df.head()\n",
    "targets = [0, 1]\n",
    "colors = ['r', 'g']\n",
    "my_dpi = 96\n",
    "fig = plt.figure(figsize=(6, 4))\n",
    "ax = fig.add_subplot(111, projection='3d')\n",
    "ax.set_xlabel('principal component 1',fontsize=8)\n",
    "ax.set_ylabel('principal component 2',fontsize=8)\n",
    "ax.set_zlabel('principal component 3',fontsize=8)\n",
    "ax.set_title('3 Components PCA',fontsize=15)\n",
    "for target, color in zip(targets,colors):\n",
    "    indicesToKeep = pca_final_df['subscribed'] == target\n",
    "    ax.scatter(pca_final_df.loc[indicesToKeep, 'principal component 1'],\n",
    "              pca_final_df.loc[indicesToKeep, 'principal component 2'],\n",
    "              pca_final_df.loc[indicesToKeep, 'principal component 3'],\n",
    "              c=color, linewidth=0.5)\n",
    "ax.legend(targets)\n",
    "plt.savefig('3 Components PCA')"
   ]
  },
  {
   "cell_type": "code",
   "execution_count": 179,
   "id": "b8736e92",
   "metadata": {},
   "outputs": [],
   "source": [
    "X_train = pca.fit_transform(X_train)\n",
    "X_test = pca.transform(X_test)"
   ]
  },
  {
   "cell_type": "code",
   "execution_count": 180,
   "id": "1534a620",
   "metadata": {},
   "outputs": [
    {
     "data": {
      "text/plain": [
       "array([0.51, 0.17, 0.12])"
      ]
     },
     "execution_count": 180,
     "metadata": {},
     "output_type": "execute_result"
    }
   ],
   "source": [
    "# 3 PCA\n",
    "explained_variance = pca.explained_variance_ratio_\n",
    "explained_variance"
   ]
  },
  {
   "cell_type": "markdown",
   "id": "474f15a8",
   "metadata": {},
   "source": [
    "It's obvious that the first principal component is responsible for 51% variance. Similarly, the second principal component causes 17% variance in the dataset and the third one is responsible for 12% variance. So we can say that (0.51+0.17+0.12) 80% percent of the classification information contained in the feature set is captured by the first three principal components."
   ]
  },
  {
   "cell_type": "markdown",
   "id": "6851ca69",
   "metadata": {},
   "source": [
    "## Working with imbalanced data: Re-sampling techniques"
   ]
  },
  {
   "cell_type": "markdown",
   "id": "46f905f1",
   "metadata": {},
   "source": [
    "After handling the multicolinearity, it's time to handle the imbalance of the data.\n",
    "\n",
    "To do this, we'll implement an Over-Sampling technique called SMOTE (Synthetic Minority Oversampling Technique)\n",
    " - Works by creating synthetic samples from the minor class (no-subscription) instead of creating copies\n",
    " - Randomly choosing one of the k-nearest-neighbors and using it to create a similar new observations\n"
   ]
  },
  {
   "cell_type": "code",
   "execution_count": 181,
   "id": "0e72db2e",
   "metadata": {},
   "outputs": [],
   "source": [
    "os = SMOTE(random_state=0)\n",
    "X_train_os, y_train_os = os.fit_resample(X_train, y_train)"
   ]
  },
  {
   "cell_type": "code",
   "execution_count": 182,
   "id": "df495cec",
   "metadata": {},
   "outputs": [
    {
     "name": "stderr",
     "output_type": "stream",
     "text": [
      "C:\\Users\\joukre\\anaconda3\\lib\\site-packages\\seaborn\\_decorators.py:36: FutureWarning: Pass the following variable as a keyword arg: x. From version 0.12, the only valid positional argument will be `data`, and passing other arguments without an explicit keyword will result in an error or misinterpretation.\n",
      "  warnings.warn(\n"
     ]
    },
    {
     "data": {
      "image/png": "[encoded data removed]",
      "text/plain": [
       "<Figure size 504x360 with 1 Axes>"
      ]
     },
     "metadata": {},
     "output_type": "display_data"
    }
   ],
   "source": [
    "sns.set_style('ticks')\n",
    "plt.figure(figsize=(7,5))\n",
    "sns.countplot(y_train_os, palette='autumn', saturation=1)\n",
    "plt.title(\"Equally Distributed Classes\", fontdict={'fontsize':18,'fontweight':'bold','color': 'grey'}, loc='center')\n",
    "plt.savefig('after re-sampling imbalanced classes')"
   ]
  },
  {
   "cell_type": "markdown",
   "id": "40ee3ab0",
   "metadata": {},
   "source": [
    "Now we have a perfect balanced data. We applied the over-sampling only to the training dataset because the test dataset is reserved for testing the model’s performance on data that the model has never encountered"
   ]
  },
  {
   "cell_type": "markdown",
   "id": "e79255d9",
   "metadata": {},
   "source": [
    "## Modeling "
   ]
  },
  {
   "cell_type": "markdown",
   "id": "e184d8b3",
   "metadata": {},
   "source": [
    "### Selecting classification algorithms"
   ]
  },
  {
   "cell_type": "markdown",
   "id": "260a0b09",
   "metadata": {},
   "source": [
    "In this section we will train many types of classifiers and decide which classifier will be more effective in predicting whether a Free Plan user would convert to a paid subscriber or not"
   ]
  },
  {
   "cell_type": "code",
   "execution_count": 183,
   "id": "48962fee",
   "metadata": {},
   "outputs": [],
   "source": [
    "from sklearn.linear_model import SGDClassifier"
   ]
  },
  {
   "cell_type": "code",
   "execution_count": 184,
   "id": "6d396059",
   "metadata": {},
   "outputs": [],
   "source": [
    "Classifiers = {'LogisticRegression': LogisticRegression(),\n",
    "               'KNeighborsClassifier': KNeighborsClassifier(n_neighbors=4),\n",
    "                'DecisionTreeClassifier': DecisionTreeClassifier(),\n",
    "                'RandomForestClassifier': RandomForestClassifier(),\n",
    "                'GaussianNB': GaussianNB(),\n",
    "                'SupportVectorMachine': SVC(),\n",
    "                'XGBClassifier': XGBClassifier(objective=\"binary:logistic\"),\n",
    "                'MLPClassifier': MLPClassifier(),\n",
    "                'SGDClassifier': SGDClassifier(),\n",
    "                'GradientBoostingClassifier': GradientBoostingClassifier()\n",
    "\n",
    "}"
   ]
  },
  {
   "cell_type": "code",
   "execution_count": 185,
   "id": "20becba3",
   "metadata": {},
   "outputs": [],
   "source": [
    "scores = []\n",
    "predictions = []\n",
    "for name, classifier in Classifiers.items():\n",
    "    classifier.fit(X_train_os, y_train_os)\n",
    "    y_pred = classifier.predict(X_test)\n",
    "    predictions.append(y_pred)\n",
    "    scores.append({\n",
    "        'Classifier': name,\n",
    "        'Accuracy': accuracy_score(y_test, y_pred),\n",
    "        'Roc score': roc_auc_score(y_test, y_pred),\n",
    "        'Recall': recall_score(y_test, y_pred),\n",
    "        'Precision': precision_score(y_test, y_pred),\n",
    "        'F1 score': f1_score(y_test, y_pred)\n",
    "    })"
   ]
  },
  {
   "cell_type": "markdown",
   "id": "aced19b1",
   "metadata": {},
   "source": [
    "### Evaluating Classifiers and selecting performance metrics"
   ]
  },
  {
   "cell_type": "markdown",
   "id": "df3f5121",
   "metadata": {},
   "source": [
    "There are many ways for measuring performance. For a classification problem, Confusion Matrix metrics (**accuracy/roc score/recall/presicioon/f1 score**) are widely used. \n",
    "\n",
    "  - Accuracy simply measures how often the classifier correctly predicts. \n",
    "  - Precision explains how many of the correctly predicted cases actually turned out to be positive.\n",
    "  - Recall explains how many of the actual positive cases we were able to predict correctly with our model.\n",
    "  - F1 Score gives a combined idea about Precision and Recall metrics.\n",
    "  - Roc score is a probability curve that plots the TPR(True Positive Rate) against the FPR(False Positive Rate).\n",
    "\n",
    "In our case we'll focus on the F1 metric.\n",
    "\n",
    "***Why not Accuracy ?*** Accuracy can be be misleading it this classification problem. It is useful when the target class is well balanced but here we are dealing with a heavily unbalanced classes.\n",
    "\n",
    "***Why F1 score ?*** The F1 score is the harmonic mean of precision and recall. It maintains a balance between the precision and recall for our classifier. \n",
    "\n",
    "F1 Score could be an effective evaluation metric in our case for the following reasons :\n",
    "- False Positive and False Negative are equally costly in this classification problem\n",
    "- True Negative is high"
   ]
  },
  {
   "cell_type": "code",
   "execution_count": 186,
   "id": "9cf93b2e",
   "metadata": {},
   "outputs": [
    {
     "data": {
      "text/html": [
       "<div>\n",
       "<style scoped>\n",
       "    .dataframe tbody tr th:only-of-type {\n",
       "        vertical-align: middle;\n",
       "    }\n",
       "\n",
       "    .dataframe tbody tr th {\n",
       "        vertical-align: top;\n",
       "    }\n",
       "\n",
       "    .dataframe thead th {\n",
       "        text-align: right;\n",
       "    }\n",
       "</style>\n",
       "<table border=\"1\" class=\"dataframe\">\n",
       "  <thead>\n",
       "    <tr style=\"text-align: right;\">\n",
       "      <th></th>\n",
       "      <th>Classifier</th>\n",
       "      <th>Accuracy</th>\n",
       "      <th>Roc score</th>\n",
       "      <th>Recall</th>\n",
       "      <th>Precision</th>\n",
       "      <th>F1 score</th>\n",
       "    </tr>\n",
       "  </thead>\n",
       "  <tbody>\n",
       "    <tr>\n",
       "      <th>0</th>\n",
       "      <td>LogisticRegression</td>\n",
       "      <td>0.873933</td>\n",
       "      <td>0.858879</td>\n",
       "      <td>0.839506</td>\n",
       "      <td>0.463847</td>\n",
       "      <td>0.597540</td>\n",
       "    </tr>\n",
       "    <tr>\n",
       "      <th>1</th>\n",
       "      <td>KNeighborsClassifier</td>\n",
       "      <td>0.888522</td>\n",
       "      <td>0.836858</td>\n",
       "      <td>0.770370</td>\n",
       "      <td>0.500000</td>\n",
       "      <td>0.606414</td>\n",
       "    </tr>\n",
       "    <tr>\n",
       "      <th>2</th>\n",
       "      <td>DecisionTreeClassifier</td>\n",
       "      <td>0.885494</td>\n",
       "      <td>0.822198</td>\n",
       "      <td>0.740741</td>\n",
       "      <td>0.490998</td>\n",
       "      <td>0.590551</td>\n",
       "    </tr>\n",
       "    <tr>\n",
       "      <th>3</th>\n",
       "      <td>RandomForestClassifier</td>\n",
       "      <td>0.887146</td>\n",
       "      <td>0.850119</td>\n",
       "      <td>0.802469</td>\n",
       "      <td>0.496183</td>\n",
       "      <td>0.613208</td>\n",
       "    </tr>\n",
       "    <tr>\n",
       "      <th>4</th>\n",
       "      <td>GaussianNB</td>\n",
       "      <td>0.920176</td>\n",
       "      <td>0.825520</td>\n",
       "      <td>0.703704</td>\n",
       "      <td>0.626374</td>\n",
       "      <td>0.662791</td>\n",
       "    </tr>\n",
       "    <tr>\n",
       "      <th>5</th>\n",
       "      <td>SupportVectorMachine</td>\n",
       "      <td>0.881365</td>\n",
       "      <td>0.860902</td>\n",
       "      <td>0.834568</td>\n",
       "      <td>0.481481</td>\n",
       "      <td>0.610659</td>\n",
       "    </tr>\n",
       "    <tr>\n",
       "      <th>6</th>\n",
       "      <td>XGBClassifier</td>\n",
       "      <td>0.897330</td>\n",
       "      <td>0.863408</td>\n",
       "      <td>0.819753</td>\n",
       "      <td>0.525316</td>\n",
       "      <td>0.640309</td>\n",
       "    </tr>\n",
       "    <tr>\n",
       "      <th>7</th>\n",
       "      <td>MLPClassifier</td>\n",
       "      <td>0.879714</td>\n",
       "      <td>0.872929</td>\n",
       "      <td>0.864198</td>\n",
       "      <td>0.478142</td>\n",
       "      <td>0.615655</td>\n",
       "    </tr>\n",
       "    <tr>\n",
       "      <th>8</th>\n",
       "      <td>SGDClassifier</td>\n",
       "      <td>0.916873</td>\n",
       "      <td>0.849573</td>\n",
       "      <td>0.762963</td>\n",
       "      <td>0.600000</td>\n",
       "      <td>0.671739</td>\n",
       "    </tr>\n",
       "    <tr>\n",
       "      <th>9</th>\n",
       "      <td>GradientBoostingClassifier</td>\n",
       "      <td>0.893201</td>\n",
       "      <td>0.879439</td>\n",
       "      <td>0.861728</td>\n",
       "      <td>0.512482</td>\n",
       "      <td>0.642726</td>\n",
       "    </tr>\n",
       "  </tbody>\n",
       "</table>\n",
       "</div>"
      ],
      "text/plain": [
       "                   Classifier  Accuracy  Roc score    Recall  Precision  \\\n",
       "0          LogisticRegression  0.873933   0.858879  0.839506   0.463847   \n",
       "1        KNeighborsClassifier  0.888522   0.836858  0.770370   0.500000   \n",
       "2      DecisionTreeClassifier  0.885494   0.822198  0.740741   0.490998   \n",
       "3      RandomForestClassifier  0.887146   0.850119  0.802469   0.496183   \n",
       "4                  GaussianNB  0.920176   0.825520  0.703704   0.626374   \n",
       "5        SupportVectorMachine  0.881365   0.860902  0.834568   0.481481   \n",
       "6               XGBClassifier  0.897330   0.863408  0.819753   0.525316   \n",
       "7               MLPClassifier  0.879714   0.872929  0.864198   0.478142   \n",
       "8               SGDClassifier  0.916873   0.849573  0.762963   0.600000   \n",
       "9  GradientBoostingClassifier  0.893201   0.879439  0.861728   0.512482   \n",
       "\n",
       "   F1 score  \n",
       "0  0.597540  \n",
       "1  0.606414  \n",
       "2  0.590551  \n",
       "3  0.613208  \n",
       "4  0.662791  \n",
       "5  0.610659  \n",
       "6  0.640309  \n",
       "7  0.615655  \n",
       "8  0.671739  \n",
       "9  0.642726  "
      ]
     },
     "execution_count": 186,
     "metadata": {},
     "output_type": "execute_result"
    }
   ],
   "source": [
    "classifier_scores = pd.DataFrame(scores)\n",
    "classifier_scores"
   ]
  },
  {
   "cell_type": "markdown",
   "id": "dd431e3f",
   "metadata": {},
   "source": [
    "After comparing the F1 score for all the models, it seems that the **Gaussian Naive Bayes classifier** have the higher score (**F1 = 0.66**). So GNB classifer is the best model in our case.\n",
    "\n",
    "Let's take a look at confusion matrices for the top 4 classifiers in term of F1 score"
   ]
  },
  {
   "cell_type": "code",
   "execution_count": 187,
   "id": "d6257967",
   "metadata": {},
   "outputs": [
    {
     "data": {
      "image/png": "[encoded data removed]",
      "text/plain": [
       "<Figure size 1584x864 with 8 Axes>"
      ]
     },
     "metadata": {},
     "output_type": "display_data"
    }
   ],
   "source": [
    "# Confusion matrices\n",
    "cf_KNN = confusion_matrix(y_test, predictions[1])\n",
    "cf_GNB = confusion_matrix(y_test, predictions[4])\n",
    "cf_MLP = confusion_matrix(y_test, predictions[7])\n",
    "cf_GB = confusion_matrix(y_test, predictions[9])\n",
    "\n",
    "fig, ax = plt.subplots(2, 2,figsize=(22,12))\n",
    "sns.heatmap(cf_KNN, ax=ax[0][0], annot=True, cmap=plt.cm.copper)\n",
    "ax[0][0].set_title(\"K Nearest Neighbors \\n Confusion Matrix\", fontsize=14)\n",
    "sns.heatmap(cf_GNB, ax=ax[0][1], annot=True, cmap=plt.cm.copper)\n",
    "ax[0][1].set_title(\"Guaussian Naive Bayes \\n Confusion Matrix\", fontsize=14)\n",
    "\n",
    "sns.heatmap(cf_MLP, ax=ax[1][0], annot=True, cmap=plt.cm.copper)\n",
    "ax[1][0].set_title(\"MLP Classifier \\n Confusion Matrix\", fontsize=14)\n",
    "\n",
    "sns.heatmap(cf_GB, ax=ax[1][1], annot=True, cmap=plt.cm.copper)\n",
    "ax[1][1].set_title(\"Gradient Boosting Classifier \\n Confusion Matrix\", fontsize=14)\n",
    "\n",
    "plt.show()"
   ]
  },
  {
   "cell_type": "code",
   "execution_count": 196,
   "id": "3e70e2f9",
   "metadata": {},
   "outputs": [
    {
     "name": "stdout",
     "output_type": "stream",
     "text": [
      "LR Accuracy :  0.9201761629507295\n",
      "roc score   :  0.8255197576758915\n",
      "precision   :  0.6263736263736264\n",
      "recall      :  0.7037037037037037\n",
      "f1 score    :  0.6627906976744186\n"
     ]
    },
    {
     "data": {
      "image/png": "[encoded data removed]",
      "text/plain": [
       "<Figure size 432x432 with 2 Axes>"
      ]
     },
     "metadata": {},
     "output_type": "display_data"
    }
   ],
   "source": [
    "GNB = GaussianNB()\n",
    "GNB.fit(X_train_os, y_train_os)\n",
    "y_test_pred = GNB.predict(X_test)\n",
    "score = accuracy_score(y_test, y_test_pred)\n",
    "print(\"LR Accuracy : \", score)\n",
    "roc = roc_auc_score(y_test, y_test_pred)\n",
    "print(\"roc score   : \", roc)\n",
    "x = precision_score(y_test, y_test_pred)\n",
    "y = recall_score(y_test, y_test_pred)\n",
    "z = f1_score(y_test, y_test_pred)\n",
    "print(\"precision   : \", x)\n",
    "print(\"recall      : \", y)\n",
    "print(\"f1 score    : \", z)\n",
    "cnf_matrix=confusion_matrix(y_test, y_test_pred)\n",
    "np.set_printoptions(precision=2)\n",
    "\n",
    "fig, ax = plt.subplots(figsize=(6, 6))\n",
    "cm_display = ConfusionMatrixDisplay(cnf_matrix, display_labels = ['Class 0', 'Class 1'])\n",
    "cm_display = ConfusionMatrixDisplay(cnf_matrix)\n",
    "\n",
    "\n",
    "cm_display.plot(ax=ax, cmap=plt.cm.pink)\n",
    "ax.set_title(' GNB Confusion Matrix', size=16)\n",
    "plt.savefig(\"GaussianNB confusion matrix before hyperparameter tuning\")"
   ]
  },
  {
   "cell_type": "markdown",
   "id": "3b184a61",
   "metadata": {},
   "source": [
    "This is how the confusion matrix works :\n",
    "\n",
    "- ***True Positive***: We predicted positive and it’s true. Here, we predicted that a student convert to a paid subscriber and he actually is.\n",
    "\n",
    "- ***True Negative***: We predicted negative and it’s true.Here, we predicted that a student is not subscribed and he actually is not.\n",
    "\n",
    "- ***False Positive (Type 1 Error)***: We predicted positive and it’s false. Here, we predicted that a student convert to a paid subscriber but he actually is not.\n",
    "\n",
    "- ***False Negative (Type 2 Error)***: We predicted negative and it’s false. Here, we predicted that a student is not subscribed but he actually is."
   ]
  },
  {
   "cell_type": "markdown",
   "id": "72628016",
   "metadata": {},
   "source": [
    "### Applying cross-validation and hyperparameter tuning techniques "
   ]
  },
  {
   "cell_type": "markdown",
   "id": "3abed5f8",
   "metadata": {},
   "source": [
    "For better training our model we'll apply cross-validation and hyperparameter tuning.\n",
    "\n",
    "In order to implement cross validation technique, we should oversample our training data during cross-validation, not before!\n",
    "Therfore, we'll make a pipeline that combine SMOTE method for oversampling our data and the chosen classifier with the best f1 score.\n",
    "\n",
    "Then, we'll implement GridSearch technique for tuning classfier's hyperparameters and choose the best ones for our model. "
   ]
  },
  {
   "cell_type": "code",
   "execution_count": 189,
   "id": "fb64279f",
   "metadata": {},
   "outputs": [
    {
     "data": {
      "text/html": [
       "<style>#sk-container-id-5 {color: black;background-color: white;}#sk-container-id-5 pre{padding: 0;}#sk-container-id-5 div.sk-toggleable {background-color: white;}#sk-container-id-5 label.sk-toggleable__label {cursor: pointer;display: block;width: 100%;margin-bottom: 0;padding: 0.3em;box-sizing: border-box;text-align: center;}#sk-container-id-5 label.sk-toggleable__label-arrow:before {content: \"▸\";float: left;margin-right: 0.25em;color: #696969;}#sk-container-id-5 label.sk-toggleable__label-arrow:hover:before {color: black;}#sk-container-id-5 div.sk-estimator:hover label.sk-toggleable__label-arrow:before {color: black;}#sk-container-id-5 div.sk-toggleable__content {max-height: 0;max-width: 0;overflow: hidden;text-align: left;background-color: #f0f8ff;}#sk-container-id-5 div.sk-toggleable__content pre {margin: 0.2em;color: black;border-radius: 0.25em;background-color: #f0f8ff;}#sk-container-id-5 input.sk-toggleable__control:checked~div.sk-toggleable__content {max-height: 200px;max-width: 100%;overflow: auto;}#sk-container-id-5 input.sk-toggleable__control:checked~label.sk-toggleable__label-arrow:before {content: \"▾\";}#sk-container-id-5 div.sk-estimator input.sk-toggleable__control:checked~label.sk-toggleable__label {background-color: #d4ebff;}#sk-container-id-5 div.sk-label input.sk-toggleable__control:checked~label.sk-toggleable__label {background-color: #d4ebff;}#sk-container-id-5 input.sk-hidden--visually {border: 0;clip: rect(1px 1px 1px 1px);clip: rect(1px, 1px, 1px, 1px);height: 1px;margin: -1px;overflow: hidden;padding: 0;position: absolute;width: 1px;}#sk-container-id-5 div.sk-estimator {font-family: monospace;background-color: #f0f8ff;border: 1px dotted black;border-radius: 0.25em;box-sizing: border-box;margin-bottom: 0.5em;}#sk-container-id-5 div.sk-estimator:hover {background-color: #d4ebff;}#sk-container-id-5 div.sk-parallel-item::after {content: \"\";width: 100%;border-bottom: 1px solid gray;flex-grow: 1;}#sk-container-id-5 div.sk-label:hover label.sk-toggleable__label {background-color: #d4ebff;}#sk-container-id-5 div.sk-serial::before {content: \"\";position: absolute;border-left: 1px solid gray;box-sizing: border-box;top: 0;bottom: 0;left: 50%;z-index: 0;}#sk-container-id-5 div.sk-serial {display: flex;flex-direction: column;align-items: center;background-color: white;padding-right: 0.2em;padding-left: 0.2em;position: relative;}#sk-container-id-5 div.sk-item {position: relative;z-index: 1;}#sk-container-id-5 div.sk-parallel {display: flex;align-items: stretch;justify-content: center;background-color: white;position: relative;}#sk-container-id-5 div.sk-item::before, #sk-container-id-5 div.sk-parallel-item::before {content: \"\";position: absolute;border-left: 1px solid gray;box-sizing: border-box;top: 0;bottom: 0;left: 50%;z-index: -1;}#sk-container-id-5 div.sk-parallel-item {display: flex;flex-direction: column;z-index: 1;position: relative;background-color: white;}#sk-container-id-5 div.sk-parallel-item:first-child::after {align-self: flex-end;width: 50%;}#sk-container-id-5 div.sk-parallel-item:last-child::after {align-self: flex-start;width: 50%;}#sk-container-id-5 div.sk-parallel-item:only-child::after {width: 0;}#sk-container-id-5 div.sk-dashed-wrapped {border: 1px dashed gray;margin: 0 0.4em 0.5em 0.4em;box-sizing: border-box;padding-bottom: 0.4em;background-color: white;}#sk-container-id-5 div.sk-label label {font-family: monospace;font-weight: bold;display: inline-block;line-height: 1.2em;}#sk-container-id-5 div.sk-label-container {text-align: center;}#sk-container-id-5 div.sk-container {/* jupyter's `normalize.less` sets `[hidden] { display: none; }` but bootstrap.min.css set `[hidden] { display: none !important; }` so we also need the `!important` here to be able to override the default hidden behavior on the sphinx rendered scikit-learn.org. See: https://github.com/scikit-learn/scikit-learn/issues/21755 */display: inline-block !important;position: relative;}#sk-container-id-5 div.sk-text-repr-fallback {display: none;}</style><div id=\"sk-container-id-5\" class=\"sk-top-container\"><div class=\"sk-text-repr-fallback\"><pre>Pipeline(steps=[(&#x27;smote&#x27;, SMOTE(random_state=42)),\n",
       "                (&#x27;gaussiannb&#x27;, GaussianNB())])</pre><b>In a Jupyter environment, please rerun this cell to show the HTML representation or trust the notebook. <br />On GitHub, the HTML representation is unable to render, please try loading this page with nbviewer.org.</b></div><div class=\"sk-container\" hidden><div class=\"sk-item sk-dashed-wrapped\"><div class=\"sk-label-container\"><div class=\"sk-label sk-toggleable\"><input class=\"sk-toggleable__control sk-hidden--visually\" id=\"sk-estimator-id-13\" type=\"checkbox\" ><label for=\"sk-estimator-id-13\" class=\"sk-toggleable__label sk-toggleable__label-arrow\">Pipeline</label><div class=\"sk-toggleable__content\"><pre>Pipeline(steps=[(&#x27;smote&#x27;, SMOTE(random_state=42)),\n",
       "                (&#x27;gaussiannb&#x27;, GaussianNB())])</pre></div></div></div><div class=\"sk-serial\"><div class=\"sk-item\"><div class=\"sk-estimator sk-toggleable\"><input class=\"sk-toggleable__control sk-hidden--visually\" id=\"sk-estimator-id-14\" type=\"checkbox\" ><label for=\"sk-estimator-id-14\" class=\"sk-toggleable__label sk-toggleable__label-arrow\">SMOTE</label><div class=\"sk-toggleable__content\"><pre>SMOTE(random_state=42)</pre></div></div></div><div class=\"sk-item\"><div class=\"sk-estimator sk-toggleable\"><input class=\"sk-toggleable__control sk-hidden--visually\" id=\"sk-estimator-id-15\" type=\"checkbox\" ><label for=\"sk-estimator-id-15\" class=\"sk-toggleable__label sk-toggleable__label-arrow\">GaussianNB</label><div class=\"sk-toggleable__content\"><pre>GaussianNB()</pre></div></div></div></div></div></div></div>"
      ],
      "text/plain": [
       "Pipeline(steps=[('smote', SMOTE(random_state=42)),\n",
       "                ('gaussiannb', GaussianNB())])"
      ]
     },
     "execution_count": 189,
     "metadata": {},
     "output_type": "execute_result"
    }
   ],
   "source": [
    "imba_pipeline = make_pipeline(SMOTE(random_state=42), \n",
    "                              GaussianNB())\n",
    "imba_pipeline"
   ]
  },
  {
   "cell_type": "code",
   "execution_count": 190,
   "id": "88d13f57",
   "metadata": {},
   "outputs": [
    {
     "name": "stdout",
     "output_type": "stream",
     "text": [
      "Scores after hyperparameter tuning\n",
      "Accuracy     :  0.9342141480869804\n",
      "precision    :  0.6617283950617284\n",
      "recall       :  0.7243243243243244\n",
      "f1 score     :  0.6916129032258065\n",
      "roc score    :  0.8150649410252879\n"
     ]
    }
   ],
   "source": [
    "params = {'var_smoothing': np.logspace(0,-9, num=100)}\n",
    "cross_val_score(imba_pipeline, X_train, y_train, scoring='f1', cv=3)\n",
    "new_params = {'gaussiannb__' + key: params[key] for key in params}\n",
    "grid_imba = GridSearchCV(imba_pipeline, param_grid=new_params, cv=3, n_jobs=-1, scoring='f1')\n",
    "grid_imba.fit(X_train, y_train)\n",
    "y_test_predict = grid_imba.best_estimator_.predict(X_test)\n",
    "w = accuracy_score(y_test, y_test_predict)\n",
    "x = recall_score(y_test, y_test_predict)\n",
    "y = precision_score(y_test, y_test_predict)\n",
    "z = f1_score(y_test, y_test_predict)\n",
    "t = roc_auc_score(y_test, y_test_predict)\n",
    "print(\"Scores after hyperparameter tuning\")\n",
    "print(\"Accuracy     : \", w)\n",
    "print(\"precision    : \", x)\n",
    "print(\"recall       : \", y)\n",
    "print(\"f1 score     : \", z)\n",
    "print(\"roc score    : \", t)"
   ]
  },
  {
   "cell_type": "code",
   "execution_count": 197,
   "id": "03cc0469",
   "metadata": {},
   "outputs": [
    {
     "data": {
      "image/png": "[encoded data removed]",
      "text/plain": [
       "<Figure size 432x432 with 2 Axes>"
      ]
     },
     "metadata": {},
     "output_type": "display_data"
    }
   ],
   "source": [
    "cnf_matrix=confusion_matrix(y_test, y_test_predict)\n",
    "fig, ax = plt.subplots(figsize=(6, 6))\n",
    "cm_display = ConfusionMatrixDisplay(cnf_matrix, display_labels = ['Class 0', 'Class 1'])\n",
    "cm_display.plot(ax=ax, cmap=plt.cm.pink)\n",
    "ax.set_title(' GNB Confusion matrix', size=16)\n",
    "plt.savefig(\"GaussianNB confusion matrix after hyperparameter tuning\")"
   ]
  },
  {
   "cell_type": "markdown",
   "id": "cd3d4e17",
   "metadata": {},
   "source": [
    "After implementing cross-validation and grid search techniques, we remark that the **F1 score** has significantly **increased by 3%**. That's great!\n",
    "\n",
    "If we go back and check, F1 score for our classifier Naive Bayes was 0.66. But now after selecting the best hyperparameters for our model the f1 score equals to 0.69 ~ 0.7\n",
    "\n",
    "F1 increase is due to the improvement of precision and recall scores. As we mentionned before F1 combines this two metrics. "
   ]
  },
  {
   "cell_type": "markdown",
   "id": "fe0a5062",
   "metadata": {},
   "source": [
    "## Closing thoughts"
   ]
  },
  {
   "cell_type": "markdown",
   "id": "8795517e",
   "metadata": {},
   "source": [
    "- Principal Component Analysis minimizes multicolinearity between independant features.\n",
    "- Implementing oversampling methods on our imbalanced dataset helped us to handle the imbalance of our labels.\n",
    "- Accuracy is not a good choice for the unbalanced classes.\n",
    "- F1 on the other hand is the best choice when False Positive and False Negatives are both important.\n",
    "- Oversampling the training data need to be done during cross-validation, not before.\n",
    "- Hyperparameters tuning selects the optimal parameters for our model and increases metric's scores"
   ]
  },
  {
   "cell_type": "markdown",
   "id": "3b47346e",
   "metadata": {},
   "source": [
    "I hope this notebook has been useful. I would be pleased to receive your feedback :)"
   ]
  }
 ],
 "metadata": {
  "kernelspec": {
   "display_name": "Python 3",
   "language": "python",
   "name": "python3"
  },
  "language_info": {
   "codemirror_mode": {
    "name": "ipython",
    "version": 3
   },
   "file_extension": ".py",
   "mimetype": "text/x-python",
   "name": "python",
   "nbconvert_exporter": "python",
   "pygments_lexer": "ipython3",
   "version": "3.8.8"
  }
 },
 "nbformat": 4,
 "nbformat_minor": 5
}
